{
 "cells": [
  {
   "cell_type": "code",
   "execution_count": 10,
   "metadata": {},
   "outputs": [],
   "source": [
    "import pandas as pd\n",
    "import numpy as np\n"
   ]
  },
  {
   "cell_type": "code",
   "execution_count": 3,
   "metadata": {},
   "outputs": [
    {
     "data": {
      "text/html": [
       "<div>\n",
       "<style scoped>\n",
       "    .dataframe tbody tr th:only-of-type {\n",
       "        vertical-align: middle;\n",
       "    }\n",
       "\n",
       "    .dataframe tbody tr th {\n",
       "        vertical-align: top;\n",
       "    }\n",
       "\n",
       "    .dataframe thead th {\n",
       "        text-align: right;\n",
       "    }\n",
       "</style>\n",
       "<table border=\"1\" class=\"dataframe\">\n",
       "  <thead>\n",
       "    <tr style=\"text-align: right;\">\n",
       "      <th></th>\n",
       "      <th>Name</th>\n",
       "      <th>Sector</th>\n",
       "      <th>Price</th>\n",
       "      <th>EPS</th>\n",
       "    </tr>\n",
       "  </thead>\n",
       "  <tbody>\n",
       "    <tr>\n",
       "      <th>0</th>\n",
       "      <td>Apple Inc</td>\n",
       "      <td>Information Technology</td>\n",
       "      <td>170.12</td>\n",
       "      <td>9.20</td>\n",
       "    </tr>\n",
       "    <tr>\n",
       "      <th>1</th>\n",
       "      <td>Abbvie Inc</td>\n",
       "      <td>Health Care</td>\n",
       "      <td>93.29</td>\n",
       "      <td>5.31</td>\n",
       "    </tr>\n",
       "    <tr>\n",
       "      <th>2</th>\n",
       "      <td>Abbott Laboratories</td>\n",
       "      <td>Health Care</td>\n",
       "      <td>55.28</td>\n",
       "      <td>2.41</td>\n",
       "    </tr>\n",
       "    <tr>\n",
       "      <th>3</th>\n",
       "      <td>Accenture Plc</td>\n",
       "      <td>Information Technology</td>\n",
       "      <td>145.30</td>\n",
       "      <td>5.91</td>\n",
       "    </tr>\n",
       "    <tr>\n",
       "      <th>4</th>\n",
       "      <td>Allergan Plc</td>\n",
       "      <td>Health Care</td>\n",
       "      <td>171.81</td>\n",
       "      <td>15.42</td>\n",
       "    </tr>\n",
       "  </tbody>\n",
       "</table>\n",
       "</div>"
      ],
      "text/plain": [
       "                  Name                  Sector   Price    EPS\n",
       "0            Apple Inc  Information Technology  170.12   9.20\n",
       "1           Abbvie Inc             Health Care   93.29   5.31\n",
       "2  Abbott Laboratories             Health Care   55.28   2.41\n",
       "3        Accenture Plc  Information Technology  145.30   5.91\n",
       "4         Allergan Plc             Health Care  171.81  15.42"
      ]
     },
     "execution_count": 3,
     "metadata": {},
     "output_type": "execute_result"
    }
   ],
   "source": [
    "data = pd.read_csv('Data/S_P_100_data.csv')\n",
    "data.head()"
   ]
  },
  {
   "cell_type": "code",
   "execution_count": 7,
   "metadata": {},
   "outputs": [],
   "source": [
    "names = data[\"Name\"].to_numpy()\n",
    "sectors = data[\"Sector\"].to_numpy()\n",
    "prices = data['Price'].to_numpy()\n",
    "earnings = data['EPS'].to_numpy()"
   ]
  },
  {
   "cell_type": "code",
   "execution_count": 9,
   "metadata": {},
   "outputs": [
    {
     "name": "stdout",
     "output_type": "stream",
     "text": [
      "['Apple Inc' 'Abbvie Inc' 'Abbott Laboratories' 'Accenture Plc']\n",
      "Exxon Mobil Corp\n",
      "80.31\n",
      "3.56\n",
      "Energy\n"
     ]
    }
   ],
   "source": [
    "# First four items of names\n",
    "print(names[:4])\n",
    "\n",
    "# Print information on last company\n",
    "print(names[-1])\n",
    "print(prices[-1])\n",
    "print(earnings[-1])\n",
    "print(sectors[-1])"
   ]
  },
  {
   "cell_type": "code",
   "execution_count": 12,
   "metadata": {},
   "outputs": [
    {
     "name": "stdout",
     "output_type": "stream",
     "text": [
      "[  18.49130435   17.56873823   22.93775934   24.58544839   11.14202335\n",
      "   23.70517928   14.8011782    13.42845787  285.99492386   17.99233716\n",
      "   27.18358974   15.25714286   14.44742937   15.19596542   21.99767981\n",
      "   20.43243243   28.81875994   13.8477842    24.75135135   16.075\n",
      "  215.0310559    25.14285714   17.88613861   11.64379947 2494.5\n",
      "   29.41924399   16.76497696   12.29071804   32.16806723   24.02313625\n",
      "   18.07368421   19.91235955   19.43169399   23.31007752   16.66129032\n",
      "    7.20833333   34.51637765   18.2829555    15.84375      16.21875\n",
      "   19.73187686   14.44354839    7.47703549    7.22778675   34.09708738\n",
      "   34.6196853    12.3984375    56.94520548   24.44396552   21.30071942\n",
      "   11.08345534   14.11320755   19.40336134   14.20461095   22.63764045\n",
      "   26.21538462   24.12698413   20.28606357   24.60141509   18.76267281\n",
      "   34.78654292   26.0953125    20.72682927   16.95522388    9.97115385\n",
      "   25.97653631   21.04746835   21.37251356   13.81491003   13.5900277\n",
      "   24.40532544   23.34332834   25.30212766   19.20392157  194.77142857\n",
      "   23.66997985   22.55859375   14.152        22.19346734   23.01781737\n",
      "   54.67857143   17.67989418   24.36772487   27.45410628   47.69767442\n",
      "   18.58909091   26.32231405   11.80546075   11.71805274   14.62376238\n",
      "   24.28325123   21.84895833   20.4204947    18.92976589   15.39465875\n",
      "   17.68126888   31.68678161   12.22666667   13.7745098    13.04830918\n",
      "   22.03669725   22.55898876]\n"
     ]
    }
   ],
   "source": [
    "# Convert lists to arrays\n",
    "prices_array = np.array(prices)\n",
    "earnings_array = np.array(earnings)\n",
    "\n",
    "# Calculate P/E ratio \n",
    "pe = prices_array / earnings_array\n",
    "data['pe'] = pe\n",
    "print(pe)"
   ]
  },
  {
   "cell_type": "code",
   "execution_count": 13,
   "metadata": {},
   "outputs": [
    {
     "data": {
      "text/html": [
       "<div>\n",
       "<style scoped>\n",
       "    .dataframe tbody tr th:only-of-type {\n",
       "        vertical-align: middle;\n",
       "    }\n",
       "\n",
       "    .dataframe tbody tr th {\n",
       "        vertical-align: top;\n",
       "    }\n",
       "\n",
       "    .dataframe thead th {\n",
       "        text-align: right;\n",
       "    }\n",
       "</style>\n",
       "<table border=\"1\" class=\"dataframe\">\n",
       "  <thead>\n",
       "    <tr style=\"text-align: right;\">\n",
       "      <th></th>\n",
       "      <th>Name</th>\n",
       "      <th>Sector</th>\n",
       "      <th>Price</th>\n",
       "      <th>EPS</th>\n",
       "      <th>pe</th>\n",
       "    </tr>\n",
       "  </thead>\n",
       "  <tbody>\n",
       "    <tr>\n",
       "      <th>0</th>\n",
       "      <td>Apple Inc</td>\n",
       "      <td>Information Technology</td>\n",
       "      <td>170.12</td>\n",
       "      <td>9.20</td>\n",
       "      <td>18.491304</td>\n",
       "    </tr>\n",
       "    <tr>\n",
       "      <th>1</th>\n",
       "      <td>Abbvie Inc</td>\n",
       "      <td>Health Care</td>\n",
       "      <td>93.29</td>\n",
       "      <td>5.31</td>\n",
       "      <td>17.568738</td>\n",
       "    </tr>\n",
       "    <tr>\n",
       "      <th>2</th>\n",
       "      <td>Abbott Laboratories</td>\n",
       "      <td>Health Care</td>\n",
       "      <td>55.28</td>\n",
       "      <td>2.41</td>\n",
       "      <td>22.937759</td>\n",
       "    </tr>\n",
       "    <tr>\n",
       "      <th>3</th>\n",
       "      <td>Accenture Plc</td>\n",
       "      <td>Information Technology</td>\n",
       "      <td>145.30</td>\n",
       "      <td>5.91</td>\n",
       "      <td>24.585448</td>\n",
       "    </tr>\n",
       "    <tr>\n",
       "      <th>4</th>\n",
       "      <td>Allergan Plc</td>\n",
       "      <td>Health Care</td>\n",
       "      <td>171.81</td>\n",
       "      <td>15.42</td>\n",
       "      <td>11.142023</td>\n",
       "    </tr>\n",
       "  </tbody>\n",
       "</table>\n",
       "</div>"
      ],
      "text/plain": [
       "                  Name                  Sector   Price    EPS         pe\n",
       "0            Apple Inc  Information Technology  170.12   9.20  18.491304\n",
       "1           Abbvie Inc             Health Care   93.29   5.31  17.568738\n",
       "2  Abbott Laboratories             Health Care   55.28   2.41  22.937759\n",
       "3        Accenture Plc  Information Technology  145.30   5.91  24.585448\n",
       "4         Allergan Plc             Health Care  171.81  15.42  11.142023"
      ]
     },
     "execution_count": 13,
     "metadata": {},
     "output_type": "execute_result"
    }
   ],
   "source": [
    "data.head()"
   ]
  },
  {
   "cell_type": "code",
   "execution_count": 14,
   "metadata": {},
   "outputs": [
    {
     "name": "stdout",
     "output_type": "stream",
     "text": [
      "['Apple Inc' 'Accenture Plc' 'Cisco Systems Inc' 'Facebook Inc'\n",
      " 'Alphabet Class C' 'Alphabet Class A' 'International Business Machines'\n",
      " 'Intel Corp' 'Mastercard Inc' 'Microsoft Corp' 'Oracle Corp'\n",
      " 'Paypal Holdings' 'Qualcomm Inc' 'Texas Instruments' 'Visa Inc']\n",
      "[18.49130435 24.58544839 16.76497696 34.51637765 34.09708738 34.6196853\n",
      " 11.08345534 14.11320755 34.78654292 24.40532544 19.20392157 54.67857143\n",
      " 17.67989418 24.28325123 31.68678161]\n"
     ]
    }
   ],
   "source": [
    "# Create boolean array \n",
    "boolean_array = (sectors == 'Information Technology')\n",
    "\n",
    "# Subset sector-specific data\n",
    "it_names = names[boolean_array]\n",
    "it_pe = pe[boolean_array]\n",
    "\n",
    "# Display sector names\n",
    "print(it_names)\n",
    "print(it_pe)"
   ]
  },
  {
   "cell_type": "code",
   "execution_count": 18,
   "metadata": {},
   "outputs": [
    {
     "name": "stdout",
     "output_type": "stream",
     "text": [
      "['Colgate-Palmolive Company' 'Costco Wholesale' 'CVS Corp'\n",
      " 'Kraft Heinz Co' 'Coca-Cola Company' 'Mondelez Intl Cmn A' 'Altria Group'\n",
      " 'Pepsico Inc' 'Procter & Gamble Company'\n",
      " 'Philip Morris International Inc' 'Walgreens Boots Alliance'\n",
      " 'Wal-Mart Stores']\n",
      "[25.14285714 29.41924399 12.29071804 22.63764045 24.12698413 20.72682927\n",
      " 21.04746835 22.55859375 22.19346734 23.01781737 13.7745098  22.03669725]\n",
      "['Apple Inc' 'Accenture Plc' 'Cisco Systems Inc' 'Facebook Inc'\n",
      " 'Alphabet Class C' 'Alphabet Class A' 'International Business Machines'\n",
      " 'Intel Corp' 'Mastercard Inc' 'Microsoft Corp' 'Oracle Corp'\n",
      " 'Paypal Holdings' 'Qualcomm Inc' 'Texas Instruments' 'Visa Inc']\n",
      "[18.49130435 24.58544839 16.76497696 34.51637765 34.09708738 34.6196853\n",
      " 11.08345534 14.11320755 34.78654292 24.40532544 19.20392157 54.67857143\n",
      " 17.67989418 24.28325123 31.68678161]\n"
     ]
    }
   ],
   "source": [
    "# Create boolean array \n",
    "boolean_array = (sectors == 'Consumer Staples')\n",
    "\n",
    "# Subset sector-specific data\n",
    "cs_names = names[boolean_array]\n",
    "cs_pe = pe[boolean_array]\n",
    "\n",
    "# Display sector names\n",
    "print(cs_names)\n",
    "print(cs_pe)\n",
    "\n",
    "# Create boolean array \n",
    "boolean_array = (sectors == 'Information Technology')\n",
    "\n",
    "# Subset sector-specific data\n",
    "it_names = names[boolean_array]\n",
    "it_pe = pe[boolean_array]\n",
    "\n",
    "# Display sector names\n",
    "print(it_names)\n",
    "print(it_pe)"
   ]
  },
  {
   "cell_type": "code",
   "execution_count": 16,
   "metadata": {},
   "outputs": [
    {
     "name": "stdout",
     "output_type": "stream",
     "text": [
      "21.581068906419564\n",
      "4.412021654267338\n"
     ]
    }
   ],
   "source": [
    "# Calculate mean and standard deviation\n",
    "cs_pe_mean = np.mean(cs_pe)\n",
    "cs_pe_std = np.std(cs_pe)\n",
    "\n",
    "print(cs_pe_mean)\n",
    "print(cs_pe_std)"
   ]
  },
  {
   "cell_type": "code",
   "execution_count": 20,
   "metadata": {},
   "outputs": [
    {
     "ename": "NameError",
     "evalue": "name 'it_id' is not defined",
     "output_type": "error",
     "traceback": [
      "\u001b[1;31m---------------------------------------------------------------------------\u001b[0m",
      "\u001b[1;31mNameError\u001b[0m                                 Traceback (most recent call last)",
      "Cell \u001b[1;32mIn[20], line 4\u001b[0m\n\u001b[0;32m      1\u001b[0m \u001b[38;5;28;01mimport\u001b[39;00m\u001b[38;5;250m \u001b[39m\u001b[38;5;21;01mmatplotlib\u001b[39;00m\u001b[38;5;21;01m.\u001b[39;00m\u001b[38;5;21;01mpyplot\u001b[39;00m\u001b[38;5;250m \u001b[39m\u001b[38;5;28;01mas\u001b[39;00m\u001b[38;5;250m \u001b[39m\u001b[38;5;21;01mplt\u001b[39;00m\n\u001b[0;32m      3\u001b[0m \u001b[38;5;66;03m# Make a scatterplot\u001b[39;00m\n\u001b[1;32m----> 4\u001b[0m plt\u001b[38;5;241m.\u001b[39mscatter(\u001b[43mit_id\u001b[49m, it_pe, color\u001b[38;5;241m=\u001b[39m\u001b[38;5;124m'\u001b[39m\u001b[38;5;124mred\u001b[39m\u001b[38;5;124m'\u001b[39m, label\u001b[38;5;241m=\u001b[39m\u001b[38;5;124m'\u001b[39m\u001b[38;5;124mIT\u001b[39m\u001b[38;5;124m'\u001b[39m)\n\u001b[0;32m      5\u001b[0m plt\u001b[38;5;241m.\u001b[39mscatter(cs_id, cs_pe, color\u001b[38;5;241m=\u001b[39m\u001b[38;5;124m'\u001b[39m\u001b[38;5;124mgreen\u001b[39m\u001b[38;5;124m'\u001b[39m, label\u001b[38;5;241m=\u001b[39m\u001b[38;5;124m'\u001b[39m\u001b[38;5;124mCS\u001b[39m\u001b[38;5;124m'\u001b[39m)\n\u001b[0;32m      7\u001b[0m \u001b[38;5;66;03m# Add legend\u001b[39;00m\n",
      "\u001b[1;31mNameError\u001b[0m: name 'it_id' is not defined"
     ]
    }
   ],
   "source": [
    "import matplotlib.pyplot as plt\n",
    "\n",
    "# Make a scatterplot\n",
    "plt.scatter(it_id, it_pe, color='red', label='IT')\n",
    "plt.scatter(cs_id, cs_pe, color='green', label='CS')\n",
    "\n",
    "# Add legend\n",
    "plt.legend()\n",
    "\n",
    "# Add labels\n",
    "plt.xlabel('Company ID')\n",
    "plt.ylabel('P/E Ratio')\n",
    "plt.show()"
   ]
  },
  {
   "cell_type": "code",
   "execution_count": 21,
   "metadata": {},
   "outputs": [
    {
     "data": {
      "image/png": "[encoded data removed]",
      "text/plain": [
       "<Figure size 640x480 with 1 Axes>"
      ]
     },
     "metadata": {},
     "output_type": "display_data"
    }
   ],
   "source": [
    "# Import matplotlib.pyplot with the alias plt\n",
    "import matplotlib.pyplot as plt\n",
    "\n",
    "# Plot histogram \n",
    "plt.hist(x=it_pe, bins=8)\n",
    "\n",
    "# Add x-label\n",
    "plt.xlabel('P/E ratio')\n",
    "\n",
    "# Add y-label\n",
    "plt.ylabel('Frequency')\n",
    "\n",
    "# Show plot\n",
    "plt.show()"
   ]
  },
  {
   "cell_type": "code",
   "execution_count": 22,
   "metadata": {},
   "outputs": [
    {
     "name": "stdout",
     "output_type": "stream",
     "text": [
      "In 2017, Paypal Holdings had an abnormally high P/E ratio of 54.68.\n"
     ]
    }
   ],
   "source": [
    "# Identify P/E ratio within it_pe that is > 50\n",
    "outlier_price = it_pe[it_pe > 50]\n",
    "\n",
    "# Identify the company with PE ratio > 50\n",
    "outlier_name = it_names[it_pe > 50]\n",
    "\n",
    "# Display results\n",
    "print(\"In 2017, \" + str(outlier_name[0]) + \" had an abnormally high P/E ratio of \" + str(round(outlier_price[0], 2)) + \".\")"
   ]
  }
 ],
 "metadata": {
  "kernelspec": {
   "display_name": ".env",
   "language": "python",
   "name": "python3"
  },
  "language_info": {
   "codemirror_mode": {
    "name": "ipython",
    "version": 3
   },
   "file_extension": ".py",
   "mimetype": "text/x-python",
   "name": "python",
   "nbconvert_exporter": "python",
   "pygments_lexer": "ipython3",
   "version": "3.12.9"
  }
 },
 "nbformat": 4,
 "nbformat_minor": 2
}
