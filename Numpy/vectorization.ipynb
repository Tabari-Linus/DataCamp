{
 "cells": [
  {
   "cell_type": "code",
   "execution_count": 1,
   "metadata": {},
   "outputs": [],
   "source": [
    "import numpy as np"
   ]
  },
  {
   "cell_type": "code",
   "execution_count": 2,
   "metadata": {},
   "outputs": [],
   "source": [
    "names = np.array([[\"Izzy\", \"Monica\", \"Marvin\"],\n",
    "                  [\"Weber\", \"Patel\", \"Hernandez\"]])"
   ]
  },
  {
   "cell_type": "code",
   "execution_count": 3,
   "metadata": {},
   "outputs": [
    {
     "name": "stdout",
     "output_type": "stream",
     "text": [
      "[['IZZY' 'MONICA' 'MARVIN']\n",
      " ['WEBER' 'PATEL' 'HERNANDEZ']]\n"
     ]
    }
   ],
   "source": [
    "# Vectorize the .upper() string method\n",
    "vectorized_upper = np.vectorize(str.upper)\n",
    "\n",
    "# Apply vectorized_upper to the names array\n",
    "uppercase_names = vectorized_upper(names)\n",
    "print(uppercase_names)"
   ]
  },
  {
   "cell_type": "code",
   "execution_count": 6,
   "metadata": {},
   "outputs": [],
   "source": [
    "monthly_sales = np.array([[ 4134, 23925,  8657],\n",
    "\t\t\t\t\t\t  [ 4116, 23875,  9142],\n",
    "\t\t\t\t\t\t  [ 4673, 27197, 10645],\n",
    "\t\t\t\t\t\t  [ 4580, 25637, 10456],\n",
    "\t\t\t\t\t\t  [ 5109, 27995, 11299],\n",
    "\t\t\t\t\t\t  [ 5011, 27419, 10625],\n",
    "\t\t\t\t\t\t  [ 5245, 27305, 10630],\n",
    "\t\t\t\t\t\t  [ 5270, 27760, 11550],\n",
    "\t\t\t\t\t\t  [ 4680, 24988,  9762],\n",
    "\t\t\t\t\t\t  [ 4913, 25802, 10456],\n",
    "\t\t\t\t\t\t  [ 5312, 25405, 13401],\n",
    "\t\t\t\t\t\t  [ 6630, 27797, 18403]])"
   ]
  },
  {
   "cell_type": "code",
   "execution_count": 8,
   "metadata": {},
   "outputs": [],
   "source": [
    "monthly_industry_multipliers = np.array([[0.98, 1.02, 1.  ],\n",
    "       [1.00, 1.01, 0.97],\n",
    "       [1.06, 1.03, 0.98],\n",
    "       [1.08, 1.01, 0.98],\n",
    "       [1.08, 0.98, 0.98],\n",
    "       [1.1 , 0.99, 0.99],\n",
    "       [1.12, 1.01, 1.  ],\n",
    "       [1.1 , 1.02, 1.  ],\n",
    "       [1.11, 1.01, 1.01],\n",
    "       [1.08, 0.99, 0.97],\n",
    "       [1.09, 1.  , 1.02],\n",
    "       [1.13, 1.03, 1.02]])"
   ]
  },
  {
   "cell_type": "code",
   "execution_count": 9,
   "metadata": {},
   "outputs": [
    {
     "name": "stdout",
     "output_type": "stream",
     "text": [
      "[1.0775     1.00833333 0.99333333]\n",
      "(3,) (12, 3)\n",
      "[[ 4454.385      24124.375       8599.28666667]\n",
      " [ 4434.99       24073.95833333  9081.05333333]\n",
      " [ 5035.1575     27423.64166667 10574.03333333]\n",
      " [ 4934.95       25850.64166667 10386.29333333]\n",
      " [ 5504.9475     28228.29166667 11223.67333333]\n",
      " [ 5399.3525     27647.49166667 10554.16666667]\n",
      " [ 5651.4875     27532.54166667 10559.13333333]\n",
      " [ 5678.425      27991.33333333 11473.        ]\n",
      " [ 5042.7        25196.23333333  9696.92      ]\n",
      " [ 5293.7575     26017.01666667 10386.29333333]\n",
      " [ 5723.68       25616.70833333 13311.66      ]\n",
      " [ 7143.825      28028.64166667 18280.31333333]]\n"
     ]
    }
   ],
   "source": [
    "# Find the mean sales projection multiplier for each industry\n",
    "mean_multipliers = monthly_industry_multipliers.mean(axis=0)\n",
    "print(mean_multipliers)\n",
    "\n",
    "# Print the shapes of mean_multipliers and monthly_sales\n",
    "print(mean_multipliers.shape, monthly_sales.shape)\n",
    "\n",
    "# Multiply each value by the multiplier for that industry\n",
    "projected_sales = monthly_sales*mean_multipliers\n",
    "print(projected_sales)"
   ]
  }
 ],
 "metadata": {
  "kernelspec": {
   "display_name": "env",
   "language": "python",
   "name": "python3"
  },
  "language_info": {
   "codemirror_mode": {
    "name": "ipython",
    "version": 3
   },
   "file_extension": ".py",
   "mimetype": "text/x-python",
   "name": "python",
   "nbconvert_exporter": "python",
   "pygments_lexer": "ipython3",
   "version": "3.12.7"
  }
 },
 "nbformat": 4,
 "nbformat_minor": 2
}
