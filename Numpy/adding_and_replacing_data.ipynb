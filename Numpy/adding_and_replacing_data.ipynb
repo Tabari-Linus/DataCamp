{
 "cells": [
  {
   "cell_type": "code",
   "execution_count": 1,
   "metadata": {},
   "outputs": [
    {
     "name": "stdout",
     "output_type": "stream",
     "text": [
      "(1000, 4)\n"
     ]
    }
   ],
   "source": [
    "import numpy as np\n",
    "\n",
    "tree_census = np.load('./data/tree_census.npy')\n",
    "print(tree_census.shape)"
   ]
  },
  {
   "cell_type": "code",
   "execution_count": 2,
   "metadata": {},
   "outputs": [
    {
     "name": "stdout",
     "output_type": "stream",
     "text": [
      "(1000, 4)\n"
     ]
    }
   ],
   "source": [
    "# Print the shapes of tree_census and new_trees\n",
    "print(tree_census.shape)"
   ]
  },
  {
   "cell_type": "code",
   "execution_count": 12,
   "metadata": {},
   "outputs": [],
   "source": [
    "new_trees = np.array([1212,227386,8,0]).reshape(1,4)"
   ]
  },
  {
   "cell_type": "code",
   "execution_count": 13,
   "metadata": {},
   "outputs": [
    {
     "name": "stdout",
     "output_type": "stream",
     "text": [
      "(1000, 4) (1, 4)\n",
      "[[     3 501451     24      0]\n",
      " [     4 501451     20      0]\n",
      " [     7 501911      3      0]\n",
      " ...\n",
      " [  1199 227387     11      0]\n",
      " [  1210 227386      6      0]\n",
      " [  1212 227386      8      0]]\n"
     ]
    }
   ],
   "source": [
    "# Print the shapes of tree_census and new_trees\n",
    "print(tree_census.shape, new_trees.shape)\n",
    "\n",
    "# Add rows to tree_census which contain data for the new trees\n",
    "updated_tree_census = np.concatenate((tree_census,new_trees))\n",
    "print(updated_tree_census)"
   ]
  },
  {
   "cell_type": "code",
   "execution_count": 14,
   "metadata": {},
   "outputs": [],
   "source": [
    "# Delete the stump diameter column from tree_census\n",
    "tree_census_no_stumps = np.delete(tree_census, 3, axis=1)\n",
    "\n",
    "# Save the indices of the trees on block 313879\n",
    "private_block_indices = np.where(tree_census[:, 1] == 313879)"
   ]
  },
  {
   "cell_type": "code",
   "execution_count": 15,
   "metadata": {},
   "outputs": [
    {
     "name": "stdout",
     "output_type": "stream",
     "text": [
      "(998, 3)\n"
     ]
    }
   ],
   "source": [
    "# Delete the stump diameter column from tree_census\n",
    "tree_census_no_stumps = np.delete(tree_census, 3, axis=1)\n",
    "\n",
    "# Save the indices of the trees on block 313879\n",
    "private_block_indices = np.where(tree_census[:,1] == 313879)\n",
    "\n",
    "# Delete the rows for trees on block 313879 from tree_census_no_stumps\n",
    "tree_census_clean = np.delete(tree_census_no_stumps,private_block_indices,axis=0)\n",
    "\n",
    "# Print the shape of tree_census_clean\n",
    "print(tree_census_clean.shape)"
   ]
  }
 ],
 "metadata": {
  "kernelspec": {
   "display_name": "env",
   "language": "python",
   "name": "python3"
  },
  "language_info": {
   "codemirror_mode": {
    "name": "ipython",
    "version": 3
   },
   "file_extension": ".py",
   "mimetype": "text/x-python",
   "name": "python",
   "nbconvert_exporter": "python",
   "pygments_lexer": "ipython3",
   "version": "3.12.7"
  }
 },
 "nbformat": 4,
 "nbformat_minor": 2
}
