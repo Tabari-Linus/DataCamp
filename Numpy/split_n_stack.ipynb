{
 "cells": [
  {
   "cell_type": "code",
   "execution_count": 1,
   "metadata": {},
   "outputs": [],
   "source": [
    "import numpy as np\n",
    "import matplotlib.pyplot as plt\n",
    "monthly_sales = np.load('./data/monthly_sales.npy')"
   ]
  },
  {
   "cell_type": "code",
   "execution_count": 2,
   "metadata": {},
   "outputs": [
    {
     "name": "stdout",
     "output_type": "stream",
     "text": [
      "[[ 4134 23925  8657]\n",
      " [ 4116 23875  9142]\n",
      " [ 4673 27197 10645]]\n",
      "[[[ 4134 23925  8657]\n",
      "  [ 4116 23875  9142]\n",
      "  [ 4673 27197 10645]]\n",
      "\n",
      " [[ 4580 25637 10456]\n",
      "  [ 5109 27995 11299]\n",
      "  [ 5011 27419 10625]]\n",
      "\n",
      " [[ 5245 27305 10630]\n",
      "  [ 5270 27760 11550]\n",
      "  [ 4680 24988  9762]]\n",
      "\n",
      " [[ 4913 25802 10456]\n",
      "  [ 5312 25405 13401]\n",
      "  [ 6630 27797 18403]]]\n"
     ]
    }
   ],
   "source": [
    "# Split monthly_sales into quarterly data\n",
    "q1_sales, q2_sales, q3_sales, q4_sales = np.split(monthly_sales, 4)\n",
    "\n",
    "# Print q1_sales\n",
    "print(q1_sales)\n",
    "\n",
    "# Stack the four quarterly sales arrays\n",
    "quarterly_sales = np.stack([q1_sales,q2_sales,q3_sales,q4_sales])\n",
    "print(quarterly_sales)"
   ]
  },
  {
   "cell_type": "code",
   "execution_count": 4,
   "metadata": {},
   "outputs": [],
   "source": [
    "with open(\"./data/rgb_array.npy\", 'rb') as f:\n",
    "    rgb_array = np.load(f)\n"
   ]
  },
  {
   "cell_type": "code",
   "execution_count": null,
   "metadata": {},
   "outputs": [
    {
     "name": "stdout",
     "output_type": "stream",
     "text": [
      "(675, 843, 1)\n"
     ]
    },
    {
     "ename": "ValueError",
     "evalue": "cannot reshape array of size 569025 into shape (675,844)",
     "output_type": "error",
     "traceback": [
      "\u001b[1;31m---------------------------------------------------------------------------\u001b[0m",
      "\u001b[1;31mValueError\u001b[0m                                Traceback (most recent call last)",
      "Cell \u001b[1;32mIn[7], line 11\u001b[0m\n\u001b[0;32m      8\u001b[0m \u001b[38;5;28mprint\u001b[39m(emphasized_blue_array\u001b[38;5;241m.\u001b[39mshape)\n\u001b[0;32m     10\u001b[0m \u001b[38;5;66;03m# Remove the trailing dimension from emphasized_blue_array\u001b[39;00m\n\u001b[1;32m---> 11\u001b[0m emphasized_blue_array_2D \u001b[38;5;241m=\u001b[39m emphasized_blue_array\u001b[38;5;241m.\u001b[39mreshape((\u001b[38;5;241m675\u001b[39m, \u001b[38;5;241m844\u001b[39m))\n",
      "\u001b[1;31mValueError\u001b[0m: cannot reshape array of size 569025 into shape (675,844)"
     ]
    }
   ],
   "source": [
    "# Split rgb_array into red, green, and blue arrays\n",
    "red_array, green_array, blue_array = np.split(rgb_array, 3, axis=2)\n",
    "\n",
    "# Create emphasized_blue_array\n",
    "emphasized_blue_array = np.where(blue_array > blue_array.mean(), 255, blue_array)\n",
    "\n",
    "# Print the shape of emphasized_blue_array\n",
    "print(emphasized_blue_array.shape)\n",
    "\n",
    "# Remove the trailing dimension from emphasized_blue_array\n",
    "emphasized_blue_array_2D = emphasized_blue_array.reshape((675, 844))"
   ]
  },
  {
   "cell_type": "code",
   "execution_count": null,
   "metadata": {},
   "outputs": [
    {
     "ename": "ValueError",
     "evalue": "cannot reshape array of size 569025 into shape (675,844)",
     "output_type": "error",
     "traceback": [
      "\u001b[1;31m---------------------------------------------------------------------------\u001b[0m",
      "\u001b[1;31mValueError\u001b[0m                                Traceback (most recent call last)",
      "Cell \u001b[1;32mIn[9], line 5\u001b[0m\n\u001b[0;32m      1\u001b[0m \u001b[38;5;66;03m# Print the shapes of blue_array and emphasized_blue_array_2D\u001b[39;00m\n\u001b[0;32m      2\u001b[0m \u001b[38;5;66;03m# print(blue_array.shape, emphasized_blue_array_2D.shape)\u001b[39;00m\n\u001b[0;32m      3\u001b[0m \n\u001b[0;32m      4\u001b[0m \u001b[38;5;66;03m# Reshape red_array and green_array\u001b[39;00m\n\u001b[1;32m----> 5\u001b[0m red_array_2D \u001b[38;5;241m=\u001b[39m red_array\u001b[38;5;241m.\u001b[39mreshape((\u001b[38;5;241m675\u001b[39m, \u001b[38;5;241m844\u001b[39m))\n\u001b[0;32m      6\u001b[0m green_array_2D \u001b[38;5;241m=\u001b[39m green_array\u001b[38;5;241m.\u001b[39mreshape((\u001b[38;5;241m675\u001b[39m, \u001b[38;5;241m844\u001b[39m))\n\u001b[0;32m      8\u001b[0m \u001b[38;5;66;03m# Stack red_array_2D, green_array_2D, and emphasized_blue_array_2D\u001b[39;00m\n",
      "\u001b[1;31mValueError\u001b[0m: cannot reshape array of size 569025 into shape (675,844)"
     ]
    }
   ],
   "source": [
    "# Print the shapes of blue_array and emphasized_blue_array_2D\n",
    "print(blue_array.shape, emphasized_blue_array_2D.shape)\n",
    "\n",
    "# Reshape red_array and green_array\n",
    "red_array_2D = red_array.reshape((675, 844))\n",
    "green_array_2D = green_array.reshape((675, 844))\n",
    "\n",
    "# Stack red_array_2D, green_array_2D, and emphasized_blue_array_2D\n",
    "emphasized_blue_monet = np.stack([red_array_2D,green_array_2D,emphasized_blue_array_2D], axis=2)\n",
    "plt.imshow(emphasized_blue_monet)\n",
    "plt.show()"
   ]
  }
 ],
 "metadata": {
  "kernelspec": {
   "display_name": "env",
   "language": "python",
   "name": "python3"
  },
  "language_info": {
   "codemirror_mode": {
    "name": "ipython",
    "version": 3
   },
   "file_extension": ".py",
   "mimetype": "text/x-python",
   "name": "python",
   "nbconvert_exporter": "python",
   "pygments_lexer": "ipython3",
   "version": "3.12.7"
  }
 },
 "nbformat": 4,
 "nbformat_minor": 2
}
