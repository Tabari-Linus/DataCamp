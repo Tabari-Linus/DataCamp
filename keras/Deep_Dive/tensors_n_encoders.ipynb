{
 "cells": [
  {
   "cell_type": "code",
   "execution_count": 6,
   "metadata": {},
   "outputs": [
    {
     "name": "stderr",
     "output_type": "stream",
     "text": [
      "c:\\Users\\Shadow\\anaconda3\\envs\\env\\Lib\\site-packages\\keras\\src\\layers\\core\\dense.py:87: UserWarning: Do not pass an `input_shape`/`input_dim` argument to a layer. When using Sequential models, prefer using an `Input(shape)` object as the first layer in the model instead.\n",
      "  super().__init__(activity_regularizer=activity_regularizer, **kwargs)\n"
     ]
    },
    {
     "data": {
      "text/html": [
       "<pre style=\"white-space:pre;overflow-x:auto;line-height:normal;font-family:Menlo,'DejaVu Sans Mono',consolas,'Courier New',monospace\"><span style=\"font-weight: bold\">Model: \"sequential_1\"</span>\n",
       "</pre>\n"
      ],
      "text/plain": [
       "\u001b[1mModel: \"sequential_1\"\u001b[0m\n"
      ]
     },
     "metadata": {},
     "output_type": "display_data"
    },
    {
     "data": {
      "text/html": [
       "<pre style=\"white-space:pre;overflow-x:auto;line-height:normal;font-family:Menlo,'DejaVu Sans Mono',consolas,'Courier New',monospace\">┏━━━━━━━━━━━━━━━━━━━━━━━━━━━━━━━━━┳━━━━━━━━━━━━━━━━━━━━━━━━┳━━━━━━━━━━━━━━━┓\n",
       "┃<span style=\"font-weight: bold\"> Layer (type)                    </span>┃<span style=\"font-weight: bold\"> Output Shape           </span>┃<span style=\"font-weight: bold\">       Param # </span>┃\n",
       "┡━━━━━━━━━━━━━━━━━━━━━━━━━━━━━━━━━╇━━━━━━━━━━━━━━━━━━━━━━━━╇━━━━━━━━━━━━━━━┩\n",
       "│ dense_1 (<span style=\"color: #0087ff; text-decoration-color: #0087ff\">Dense</span>)                 │ (<span style=\"color: #00d7ff; text-decoration-color: #00d7ff\">None</span>, <span style=\"color: #00af00; text-decoration-color: #00af00\">1</span>)              │             <span style=\"color: #00af00; text-decoration-color: #00af00\">5</span> │\n",
       "└─────────────────────────────────┴────────────────────────┴───────────────┘\n",
       "</pre>\n"
      ],
      "text/plain": [
       "┏━━━━━━━━━━━━━━━━━━━━━━━━━━━━━━━━━┳━━━━━━━━━━━━━━━━━━━━━━━━┳━━━━━━━━━━━━━━━┓\n",
       "┃\u001b[1m \u001b[0m\u001b[1mLayer (type)                   \u001b[0m\u001b[1m \u001b[0m┃\u001b[1m \u001b[0m\u001b[1mOutput Shape          \u001b[0m\u001b[1m \u001b[0m┃\u001b[1m \u001b[0m\u001b[1m      Param #\u001b[0m\u001b[1m \u001b[0m┃\n",
       "┡━━━━━━━━━━━━━━━━━━━━━━━━━━━━━━━━━╇━━━━━━━━━━━━━━━━━━━━━━━━╇━━━━━━━━━━━━━━━┩\n",
       "│ dense_1 (\u001b[38;5;33mDense\u001b[0m)                 │ (\u001b[38;5;45mNone\u001b[0m, \u001b[38;5;34m1\u001b[0m)              │             \u001b[38;5;34m5\u001b[0m │\n",
       "└─────────────────────────────────┴────────────────────────┴───────────────┘\n"
      ]
     },
     "metadata": {},
     "output_type": "display_data"
    },
    {
     "data": {
      "text/html": [
       "<pre style=\"white-space:pre;overflow-x:auto;line-height:normal;font-family:Menlo,'DejaVu Sans Mono',consolas,'Courier New',monospace\"><span style=\"font-weight: bold\"> Total params: </span><span style=\"color: #00af00; text-decoration-color: #00af00\">5</span> (20.00 B)\n",
       "</pre>\n"
      ],
      "text/plain": [
       "\u001b[1m Total params: \u001b[0m\u001b[38;5;34m5\u001b[0m (20.00 B)\n"
      ]
     },
     "metadata": {},
     "output_type": "display_data"
    },
    {
     "data": {
      "text/html": [
       "<pre style=\"white-space:pre;overflow-x:auto;line-height:normal;font-family:Menlo,'DejaVu Sans Mono',consolas,'Courier New',monospace\"><span style=\"font-weight: bold\"> Trainable params: </span><span style=\"color: #00af00; text-decoration-color: #00af00\">5</span> (20.00 B)\n",
       "</pre>\n"
      ],
      "text/plain": [
       "\u001b[1m Trainable params: \u001b[0m\u001b[38;5;34m5\u001b[0m (20.00 B)\n"
      ]
     },
     "metadata": {},
     "output_type": "display_data"
    },
    {
     "data": {
      "text/html": [
       "<pre style=\"white-space:pre;overflow-x:auto;line-height:normal;font-family:Menlo,'DejaVu Sans Mono',consolas,'Courier New',monospace\"><span style=\"font-weight: bold\"> Non-trainable params: </span><span style=\"color: #00af00; text-decoration-color: #00af00\">0</span> (0.00 B)\n",
       "</pre>\n"
      ],
      "text/plain": [
       "\u001b[1m Non-trainable params: \u001b[0m\u001b[38;5;34m0\u001b[0m (0.00 B)\n"
      ]
     },
     "metadata": {},
     "output_type": "display_data"
    }
   ],
   "source": [
    "# Import\n",
    "import seaborn as sns\n",
    "import pandas as pd\n",
    "\n",
    "datapath = './../../Data/banknotes.csv'\n",
    "banknotes = pd.read_csv(datapath)\n",
    "\n",
    "from keras.models import Sequential\n",
    "from keras.layers import Dense\n",
    "\n",
    "# Create a sequential model\n",
    "model = Sequential()\n",
    "\n",
    "# Add a dense layer \n",
    "model.add(Dense(1, input_shape=(4,), activation='sigmoid'))\n",
    "\n",
    "# Compile your model\n",
    "model.compile(loss='binary_crossentropy', optimizer='sgd', metrics=['accuracy'])\n",
    "\n",
    "# Display a summary of your model\n",
    "model.summary()"
   ]
  },
  {
   "cell_type": "code",
   "execution_count": 7,
   "metadata": {},
   "outputs": [
    {
     "name": "stdout",
     "output_type": "stream",
     "text": [
      "Epoch 1/20\n",
      "\u001b[1m35/35\u001b[0m \u001b[32m━━━━━━━━━━━━━━━━━━━━\u001b[0m\u001b[37m\u001b[0m \u001b[1m0s\u001b[0m 2ms/step - accuracy: 0.3277 - loss: 1.6932 \n",
      "Epoch 2/20\n",
      "\u001b[1m35/35\u001b[0m \u001b[32m━━━━━━━━━━━━━━━━━━━━\u001b[0m\u001b[37m\u001b[0m \u001b[1m0s\u001b[0m 2ms/step - accuracy: 0.5157 - loss: 0.9141\n",
      "Epoch 3/20\n",
      "\u001b[1m35/35\u001b[0m \u001b[32m━━━━━━━━━━━━━━━━━━━━\u001b[0m\u001b[37m\u001b[0m \u001b[1m0s\u001b[0m 2ms/step - accuracy: 0.7385 - loss: 0.5033 \n",
      "Epoch 4/20\n",
      "\u001b[1m35/35\u001b[0m \u001b[32m━━━━━━━━━━━━━━━━━━━━\u001b[0m\u001b[37m\u001b[0m \u001b[1m0s\u001b[0m 2ms/step - accuracy: 0.8710 - loss: 0.3450 \n",
      "Epoch 5/20\n",
      "\u001b[1m35/35\u001b[0m \u001b[32m━━━━━━━━━━━━━━━━━━━━\u001b[0m\u001b[37m\u001b[0m \u001b[1m0s\u001b[0m 3ms/step - accuracy: 0.9223 - loss: 0.2698\n",
      "Epoch 6/20\n",
      "\u001b[1m35/35\u001b[0m \u001b[32m━━━━━━━━━━━━━━━━━━━━\u001b[0m\u001b[37m\u001b[0m \u001b[1m0s\u001b[0m 2ms/step - accuracy: 0.9344 - loss: 0.2455 \n",
      "Epoch 7/20\n",
      "\u001b[1m35/35\u001b[0m \u001b[32m━━━━━━━━━━━━━━━━━━━━\u001b[0m\u001b[37m\u001b[0m \u001b[1m0s\u001b[0m 3ms/step - accuracy: 0.9468 - loss: 0.2078\n",
      "Epoch 8/20\n",
      "\u001b[1m35/35\u001b[0m \u001b[32m━━━━━━━━━━━━━━━━━━━━\u001b[0m\u001b[37m\u001b[0m \u001b[1m0s\u001b[0m 3ms/step - accuracy: 0.9393 - loss: 0.2027\n",
      "Epoch 9/20\n",
      "\u001b[1m35/35\u001b[0m \u001b[32m━━━━━━━━━━━━━━━━━━━━\u001b[0m\u001b[37m\u001b[0m \u001b[1m0s\u001b[0m 3ms/step - accuracy: 0.9539 - loss: 0.1817\n",
      "Epoch 10/20\n",
      "\u001b[1m35/35\u001b[0m \u001b[32m━━━━━━━━━━━━━━━━━━━━\u001b[0m\u001b[37m\u001b[0m \u001b[1m0s\u001b[0m 3ms/step - accuracy: 0.9532 - loss: 0.1749\n",
      "Epoch 11/20\n",
      "\u001b[1m35/35\u001b[0m \u001b[32m━━━━━━━━━━━━━━━━━━━━\u001b[0m\u001b[37m\u001b[0m \u001b[1m0s\u001b[0m 3ms/step - accuracy: 0.9460 - loss: 0.1646\n",
      "Epoch 12/20\n",
      "\u001b[1m35/35\u001b[0m \u001b[32m━━━━━━━━━━━━━━━━━━━━\u001b[0m\u001b[37m\u001b[0m \u001b[1m0s\u001b[0m 3ms/step - accuracy: 0.9620 - loss: 0.1512\n",
      "Epoch 13/20\n",
      "\u001b[1m35/35\u001b[0m \u001b[32m━━━━━━━━━━━━━━━━━━━━\u001b[0m\u001b[37m\u001b[0m \u001b[1m0s\u001b[0m 2ms/step - accuracy: 0.9559 - loss: 0.1495 \n",
      "Epoch 14/20\n",
      "\u001b[1m35/35\u001b[0m \u001b[32m━━━━━━━━━━━━━━━━━━━━\u001b[0m\u001b[37m\u001b[0m \u001b[1m0s\u001b[0m 2ms/step - accuracy: 0.9539 - loss: 0.1469 \n",
      "Epoch 15/20\n",
      "\u001b[1m35/35\u001b[0m \u001b[32m━━━━━━━━━━━━━━━━━━━━\u001b[0m\u001b[37m\u001b[0m \u001b[1m0s\u001b[0m 2ms/step - accuracy: 0.9495 - loss: 0.1512\n",
      "Epoch 16/20\n",
      "\u001b[1m35/35\u001b[0m \u001b[32m━━━━━━━━━━━━━━━━━━━━\u001b[0m\u001b[37m\u001b[0m \u001b[1m0s\u001b[0m 2ms/step - accuracy: 0.9534 - loss: 0.1398 \n",
      "Epoch 17/20\n",
      "\u001b[1m35/35\u001b[0m \u001b[32m━━━━━━━━━━━━━━━━━━━━\u001b[0m\u001b[37m\u001b[0m \u001b[1m0s\u001b[0m 2ms/step - accuracy: 0.9479 - loss: 0.1370\n",
      "Epoch 18/20\n",
      "\u001b[1m35/35\u001b[0m \u001b[32m━━━━━━━━━━━━━━━━━━━━\u001b[0m\u001b[37m\u001b[0m \u001b[1m0s\u001b[0m 2ms/step - accuracy: 0.9465 - loss: 0.1379 \n",
      "Epoch 19/20\n",
      "\u001b[1m35/35\u001b[0m \u001b[32m━━━━━━━━━━━━━━━━━━━━\u001b[0m\u001b[37m\u001b[0m \u001b[1m0s\u001b[0m 4ms/step - accuracy: 0.9615 - loss: 0.1253\n",
      "Epoch 20/20\n",
      "\u001b[1m35/35\u001b[0m \u001b[32m━━━━━━━━━━━━━━━━━━━━\u001b[0m\u001b[37m\u001b[0m \u001b[1m0s\u001b[0m 3ms/step - accuracy: 0.9763 - loss: 0.1160\n",
      "\u001b[1m9/9\u001b[0m \u001b[32m━━━━━━━━━━━━━━━━━━━━\u001b[0m\u001b[37m\u001b[0m \u001b[1m0s\u001b[0m 5ms/step - accuracy: 0.9407 - loss: 0.1595  \n",
      "Accuracy: 0.9454545378684998\n"
     ]
    }
   ],
   "source": [
    "from sklearn.model_selection import train_test_split\n",
    "features = banknotes[['variace','skewness','curtosis','entropy']]\n",
    "y = banknotes['class']\n",
    "X_train,X_test, y_train, y_test = train_test_split(features,y,test_size=0.2, random_state=42)\n",
    "\n",
    "\n",
    "\n",
    "# Train your model for 20 epochs\n",
    "model.fit(X_train, y_train, epochs = 20)\n",
    "\n",
    "# Evaluate your model accuracy on the test set\n",
    "accuracy = model.evaluate(X_test, y_test)[1]\n",
    "\n",
    "# Print accuracy\n",
    "print('Accuracy:', accuracy)"
   ]
  },
  {
   "cell_type": "markdown",
   "metadata": {},
   "source": [
    "Tensor and encodeers\n"
   ]
  },
  {
   "cell_type": "code",
   "execution_count": 18,
   "metadata": {},
   "outputs": [
    {
     "name": "stdout",
     "output_type": "stream",
     "text": [
      "\u001b[1m9/9\u001b[0m \u001b[32m━━━━━━━━━━━━━━━━━━━━\u001b[0m\u001b[37m\u001b[0m \u001b[1m0s\u001b[0m 7ms/step \n",
      "Output Shape: (275, 1)\n",
      "[[1.28886206e-02]\n",
      " [1.65252462e-01]\n",
      " [1.42668292e-01]\n",
      " [6.49475493e-03]\n",
      " [3.92623339e-03]\n",
      " [6.76257210e-03]\n",
      " [9.37232189e-03]\n",
      " [1.21578691e-03]\n",
      " [3.61500820e-03]\n",
      " [4.35631769e-03]\n",
      " [3.25417966e-01]\n",
      " [8.04718196e-01]\n",
      " [1.57061927e-02]\n",
      " [8.37321222e-01]\n",
      " [2.80416943e-02]\n",
      " [3.81342113e-01]\n",
      " [7.75589108e-01]\n",
      " [7.90310621e-01]\n",
      " [9.19286668e-01]\n",
      " [5.96731544e-01]\n",
      " [4.62085987e-03]\n",
      " [4.92964406e-03]\n",
      " [5.71404934e-01]\n",
      " [1.36466662e-03]\n",
      " [9.65147197e-01]\n",
      " [1.73313264e-03]\n",
      " [1.41305092e-03]\n",
      " [8.53081703e-01]\n",
      " [3.39698425e-04]\n",
      " [3.62765597e-04]\n",
      " [8.90684068e-01]\n",
      " [9.35729966e-03]\n",
      " [2.19773445e-02]\n",
      " [9.69176650e-01]\n",
      " [9.54635382e-01]\n",
      " [1.42057962e-03]\n",
      " [2.82398403e-01]\n",
      " [7.09873915e-01]\n",
      " [8.57551038e-01]\n",
      " [6.40130276e-03]\n",
      " [7.69608794e-03]\n",
      " [8.83539975e-01]\n",
      " [6.87352479e-01]\n",
      " [5.44408849e-03]\n",
      " [9.41770077e-01]\n",
      " [9.10961449e-01]\n",
      " [8.96050572e-01]\n",
      " [3.06892470e-02]\n",
      " [4.29698266e-02]\n",
      " [4.77729589e-01]\n",
      " [2.28021815e-02]\n",
      " [7.31358072e-04]\n",
      " [2.24617049e-02]\n",
      " [1.74977933e-03]\n",
      " [2.13697441e-02]\n",
      " [5.99844813e-01]\n",
      " [9.66073200e-02]\n",
      " [7.21763005e-04]\n",
      " [2.37686634e-02]\n",
      " [2.52956408e-03]\n",
      " [9.33912098e-01]\n",
      " [5.23302518e-03]\n",
      " [8.18924785e-01]\n",
      " [1.06598623e-03]\n",
      " [1.40636470e-02]\n",
      " [1.15242216e-03]\n",
      " [2.68436153e-03]\n",
      " [3.39048868e-03]\n",
      " [1.40053779e-01]\n",
      " [8.47633123e-01]\n",
      " [7.43530214e-01]\n",
      " [7.08914408e-03]\n",
      " [8.90749514e-01]\n",
      " [3.89989582e-04]\n",
      " [5.75338960e-01]\n",
      " [5.21567464e-01]\n",
      " [1.19439522e-02]\n",
      " [8.24917436e-01]\n",
      " [8.53493035e-01]\n",
      " [5.37429333e-01]\n",
      " [6.67871356e-01]\n",
      " [1.33434832e-01]\n",
      " [7.91368425e-01]\n",
      " [8.11082590e-03]\n",
      " [1.98918551e-01]\n",
      " [1.01888226e-03]\n",
      " [1.50129525e-03]\n",
      " [9.06283855e-01]\n",
      " [6.83734059e-01]\n",
      " [2.85347598e-03]\n",
      " [1.35076651e-03]\n",
      " [3.40692094e-03]\n",
      " [4.94329274e-01]\n",
      " [7.15520024e-01]\n",
      " [7.29093747e-03]\n",
      " [8.94348919e-01]\n",
      " [9.59070683e-01]\n",
      " [1.05109848e-01]\n",
      " [5.43095684e-03]\n",
      " [2.44523734e-02]\n",
      " [9.60864007e-01]\n",
      " [4.85164952e-03]\n",
      " [1.11564053e-02]\n",
      " [3.84812406e-03]\n",
      " [9.78628397e-01]\n",
      " [8.59650550e-04]\n",
      " [3.50794941e-03]\n",
      " [7.35157132e-01]\n",
      " [9.59076047e-01]\n",
      " [8.32546711e-01]\n",
      " [9.08373237e-01]\n",
      " [4.53474611e-01]\n",
      " [2.63859192e-03]\n",
      " [9.04506385e-01]\n",
      " [8.68551135e-01]\n",
      " [9.76280093e-01]\n",
      " [5.22939838e-04]\n",
      " [9.60926831e-01]\n",
      " [9.94479656e-01]\n",
      " [1.69838266e-03]\n",
      " [8.05234253e-01]\n",
      " [1.06120082e-02]\n",
      " [2.98306197e-01]\n",
      " [1.69986836e-03]\n",
      " [6.53347373e-01]\n",
      " [7.60532264e-03]\n",
      " [9.74464715e-01]\n",
      " [7.15696812e-01]\n",
      " [6.99094962e-03]\n",
      " [8.99217963e-01]\n",
      " [9.62264180e-01]\n",
      " [1.12438137e-02]\n",
      " [2.65289694e-02]\n",
      " [1.00416895e-02]\n",
      " [2.44899862e-03]\n",
      " [2.40107290e-02]\n",
      " [9.00066555e-01]\n",
      " [1.36412017e-03]\n",
      " [1.19012492e-02]\n",
      " [3.33625078e-01]\n",
      " [3.24501144e-03]\n",
      " [3.99976783e-02]\n",
      " [9.78672087e-01]\n",
      " [4.62158173e-02]\n",
      " [5.88784814e-01]\n",
      " [2.28775248e-01]\n",
      " [5.68908691e-01]\n",
      " [7.68101990e-01]\n",
      " [8.75712454e-01]\n",
      " [1.96046685e-03]\n",
      " [4.67426240e-01]\n",
      " [6.41840339e-01]\n",
      " [9.92320716e-01]\n",
      " [7.18466938e-04]\n",
      " [4.71271217e-01]\n",
      " [1.17151882e-03]\n",
      " [6.18387699e-01]\n",
      " [8.39337334e-03]\n",
      " [3.52823478e-03]\n",
      " [6.42370945e-03]\n",
      " [9.66087997e-01]\n",
      " [9.78537500e-01]\n",
      " [9.48525548e-01]\n",
      " [6.75702691e-01]\n",
      " [5.84353626e-01]\n",
      " [1.15304196e-03]\n",
      " [9.70700622e-01]\n",
      " [4.88129770e-03]\n",
      " [7.82414339e-04]\n",
      " [2.02767234e-02]\n",
      " [1.12749562e-01]\n",
      " [2.03311141e-03]\n",
      " [5.25977742e-03]\n",
      " [9.07450974e-01]\n",
      " [1.23513602e-02]\n",
      " [1.32656889e-02]\n",
      " [8.88798714e-01]\n",
      " [9.76180732e-01]\n",
      " [1.45603130e-02]\n",
      " [9.32511990e-04]\n",
      " [2.96688795e-01]\n",
      " [1.37911355e-02]\n",
      " [9.69418705e-01]\n",
      " [6.58943690e-03]\n",
      " [9.36806440e-01]\n",
      " [1.46515970e-03]\n",
      " [9.85620379e-01]\n",
      " [8.60692263e-01]\n",
      " [2.76427204e-03]\n",
      " [2.09495728e-03]\n",
      " [8.06735754e-01]\n",
      " [3.56569607e-03]\n",
      " [1.21402089e-02]\n",
      " [9.95648265e-01]\n",
      " [9.25892055e-01]\n",
      " [6.39264464e-01]\n",
      " [5.73383689e-01]\n",
      " [1.71596743e-02]\n",
      " [3.27702798e-02]\n",
      " [9.03238893e-01]\n",
      " [9.34756339e-01]\n",
      " [9.13126230e-01]\n",
      " [5.81422169e-03]\n",
      " [1.41547229e-02]\n",
      " [8.86798620e-01]\n",
      " [9.94706988e-01]\n",
      " [9.83097970e-01]\n",
      " [7.80112088e-01]\n",
      " [2.99201403e-02]\n",
      " [2.06685625e-03]\n",
      " [2.93871850e-01]\n",
      " [1.94434053e-03]\n",
      " [8.44116043e-03]\n",
      " [3.10635436e-02]\n",
      " [4.26142826e-04]\n",
      " [2.21414329e-03]\n",
      " [5.21567464e-01]\n",
      " [8.90633091e-03]\n",
      " [9.64113533e-01]\n",
      " [8.18749070e-01]\n",
      " [9.24310923e-01]\n",
      " [9.81031120e-01]\n",
      " [8.87501299e-01]\n",
      " [3.80722024e-02]\n",
      " [7.07896173e-01]\n",
      " [4.21125256e-03]\n",
      " [5.99753205e-03]\n",
      " [9.04085815e-01]\n",
      " [9.51670468e-01]\n",
      " [9.84471083e-01]\n",
      " [8.73309314e-01]\n",
      " [4.38869093e-03]\n",
      " [4.29980129e-01]\n",
      " [2.49073212e-03]\n",
      " [7.07845092e-01]\n",
      " [9.42581236e-01]\n",
      " [5.98353922e-01]\n",
      " [9.28332567e-01]\n",
      " [3.30105354e-03]\n",
      " [1.36970067e-02]\n",
      " [3.14727873e-02]\n",
      " [9.73266482e-01]\n",
      " [1.41620170e-02]\n",
      " [9.24996674e-01]\n",
      " [6.42924905e-01]\n",
      " [9.79215860e-01]\n",
      " [1.75933987e-02]\n",
      " [2.32194806e-03]\n",
      " [8.31227400e-04]\n",
      " [4.38808277e-02]\n",
      " [2.53883947e-04]\n",
      " [4.44980105e-03]\n",
      " [9.70104098e-01]\n",
      " [2.87698984e-01]\n",
      " [1.99798867e-01]\n",
      " [9.65607446e-03]\n",
      " [2.59558880e-03]\n",
      " [7.44378101e-03]\n",
      " [9.66222107e-01]\n",
      " [9.22247767e-01]\n",
      " [5.80934584e-02]\n",
      " [1.69930249e-01]\n",
      " [1.62756687e-03]\n",
      " [8.19866061e-01]\n",
      " [5.83794415e-01]\n",
      " [2.74188817e-03]\n",
      " [8.04892719e-01]\n",
      " [2.90769432e-03]\n",
      " [9.46547866e-01]\n",
      " [6.85364604e-01]\n",
      " [7.63461113e-01]\n",
      " [3.10882241e-01]\n",
      " [4.40501496e-02]\n",
      " [1.65249363e-01]\n",
      " [2.70980434e-03]]\n"
     ]
    }
   ],
   "source": [
    "# Import tensorflow.keras backend\n",
    "from tensorflow.keras.models import Model\n",
    "\n",
    "# Input tensor from the 1st layer of the model\n",
    "inp = model.layers[0].input\n",
    "\n",
    "# Output tensor from the 1st layer of the model\n",
    "out = model.layers[0].output\n",
    "\n",
    "inp_to_out = Model(inputs=inp, outputs=out)\n",
    "output = inp_to_out.predict(X_test)\n",
    "# print(output)\n",
    "if isinstance(output, list):\n",
    "    for i, out_tensor in enumerate(output):\n",
    "        print(f\"Output {i + 1}: Shape = {out_tensor.shape}\")\n",
    "        print(out_tensor)\n",
    "else:\n",
    "    print(\"Output Shape:\", output.shape)\n",
    "    print(output)"
   ]
  },
  {
   "cell_type": "markdown",
   "metadata": {},
   "source": [
    "Building an autoencoder\n",
    "Autoencoders have several interesting applications like anomaly detection or image denoising. They aim at producing an output identical to its inputs. The input will be compressed into a lower dimensional space, encoded. The model then learns to decode it back to its original form."
   ]
  },
  {
   "cell_type": "code",
   "execution_count": 19,
   "metadata": {},
   "outputs": [
    {
     "name": "stderr",
     "output_type": "stream",
     "text": [
      "c:\\Users\\Shadow\\anaconda3\\envs\\env\\Lib\\site-packages\\keras\\src\\layers\\core\\dense.py:87: UserWarning: Do not pass an `input_shape`/`input_dim` argument to a layer. When using Sequential models, prefer using an `Input(shape)` object as the first layer in the model instead.\n",
      "  super().__init__(activity_regularizer=activity_regularizer, **kwargs)\n"
     ]
    },
    {
     "data": {
      "text/html": [
       "<pre style=\"white-space:pre;overflow-x:auto;line-height:normal;font-family:Menlo,'DejaVu Sans Mono',consolas,'Courier New',monospace\"><span style=\"font-weight: bold\">Model: \"sequential_2\"</span>\n",
       "</pre>\n"
      ],
      "text/plain": [
       "\u001b[1mModel: \"sequential_2\"\u001b[0m\n"
      ]
     },
     "metadata": {},
     "output_type": "display_data"
    },
    {
     "data": {
      "text/html": [
       "<pre style=\"white-space:pre;overflow-x:auto;line-height:normal;font-family:Menlo,'DejaVu Sans Mono',consolas,'Courier New',monospace\">┏━━━━━━━━━━━━━━━━━━━━━━━━━━━━━━━━━┳━━━━━━━━━━━━━━━━━━━━━━━━┳━━━━━━━━━━━━━━━┓\n",
       "┃<span style=\"font-weight: bold\"> Layer (type)                    </span>┃<span style=\"font-weight: bold\"> Output Shape           </span>┃<span style=\"font-weight: bold\">       Param # </span>┃\n",
       "┡━━━━━━━━━━━━━━━━━━━━━━━━━━━━━━━━━╇━━━━━━━━━━━━━━━━━━━━━━━━╇━━━━━━━━━━━━━━━┩\n",
       "│ dense_2 (<span style=\"color: #0087ff; text-decoration-color: #0087ff\">Dense</span>)                 │ (<span style=\"color: #00d7ff; text-decoration-color: #00d7ff\">None</span>, <span style=\"color: #00af00; text-decoration-color: #00af00\">32</span>)             │        <span style=\"color: #00af00; text-decoration-color: #00af00\">25,120</span> │\n",
       "├─────────────────────────────────┼────────────────────────┼───────────────┤\n",
       "│ dense_3 (<span style=\"color: #0087ff; text-decoration-color: #0087ff\">Dense</span>)                 │ (<span style=\"color: #00d7ff; text-decoration-color: #00d7ff\">None</span>, <span style=\"color: #00af00; text-decoration-color: #00af00\">784</span>)            │        <span style=\"color: #00af00; text-decoration-color: #00af00\">25,872</span> │\n",
       "└─────────────────────────────────┴────────────────────────┴───────────────┘\n",
       "</pre>\n"
      ],
      "text/plain": [
       "┏━━━━━━━━━━━━━━━━━━━━━━━━━━━━━━━━━┳━━━━━━━━━━━━━━━━━━━━━━━━┳━━━━━━━━━━━━━━━┓\n",
       "┃\u001b[1m \u001b[0m\u001b[1mLayer (type)                   \u001b[0m\u001b[1m \u001b[0m┃\u001b[1m \u001b[0m\u001b[1mOutput Shape          \u001b[0m\u001b[1m \u001b[0m┃\u001b[1m \u001b[0m\u001b[1m      Param #\u001b[0m\u001b[1m \u001b[0m┃\n",
       "┡━━━━━━━━━━━━━━━━━━━━━━━━━━━━━━━━━╇━━━━━━━━━━━━━━━━━━━━━━━━╇━━━━━━━━━━━━━━━┩\n",
       "│ dense_2 (\u001b[38;5;33mDense\u001b[0m)                 │ (\u001b[38;5;45mNone\u001b[0m, \u001b[38;5;34m32\u001b[0m)             │        \u001b[38;5;34m25,120\u001b[0m │\n",
       "├─────────────────────────────────┼────────────────────────┼───────────────┤\n",
       "│ dense_3 (\u001b[38;5;33mDense\u001b[0m)                 │ (\u001b[38;5;45mNone\u001b[0m, \u001b[38;5;34m784\u001b[0m)            │        \u001b[38;5;34m25,872\u001b[0m │\n",
       "└─────────────────────────────────┴────────────────────────┴───────────────┘\n"
      ]
     },
     "metadata": {},
     "output_type": "display_data"
    },
    {
     "data": {
      "text/html": [
       "<pre style=\"white-space:pre;overflow-x:auto;line-height:normal;font-family:Menlo,'DejaVu Sans Mono',consolas,'Courier New',monospace\"><span style=\"font-weight: bold\"> Total params: </span><span style=\"color: #00af00; text-decoration-color: #00af00\">50,992</span> (199.19 KB)\n",
       "</pre>\n"
      ],
      "text/plain": [
       "\u001b[1m Total params: \u001b[0m\u001b[38;5;34m50,992\u001b[0m (199.19 KB)\n"
      ]
     },
     "metadata": {},
     "output_type": "display_data"
    },
    {
     "data": {
      "text/html": [
       "<pre style=\"white-space:pre;overflow-x:auto;line-height:normal;font-family:Menlo,'DejaVu Sans Mono',consolas,'Courier New',monospace\"><span style=\"font-weight: bold\"> Trainable params: </span><span style=\"color: #00af00; text-decoration-color: #00af00\">50,992</span> (199.19 KB)\n",
       "</pre>\n"
      ],
      "text/plain": [
       "\u001b[1m Trainable params: \u001b[0m\u001b[38;5;34m50,992\u001b[0m (199.19 KB)\n"
      ]
     },
     "metadata": {},
     "output_type": "display_data"
    },
    {
     "data": {
      "text/html": [
       "<pre style=\"white-space:pre;overflow-x:auto;line-height:normal;font-family:Menlo,'DejaVu Sans Mono',consolas,'Courier New',monospace\"><span style=\"font-weight: bold\"> Non-trainable params: </span><span style=\"color: #00af00; text-decoration-color: #00af00\">0</span> (0.00 B)\n",
       "</pre>\n"
      ],
      "text/plain": [
       "\u001b[1m Non-trainable params: \u001b[0m\u001b[38;5;34m0\u001b[0m (0.00 B)\n"
      ]
     },
     "metadata": {},
     "output_type": "display_data"
    }
   ],
   "source": [
    "from tensorflow.keras.models import Sequential\n",
    "\n",
    "\n",
    "autoencoder = Sequential()\n",
    "\n",
    "# Add a dense layer with input the original image pixels and neurons the encoded representation\n",
    "autoencoder.add(Dense(32, input_shape=(784, ), activation=\"relu\"))\n",
    "\n",
    "# Add an output layer with as many neurons as the orginal image pixels\n",
    "autoencoder.add(Dense(784, activation = \"sigmoid\"))\n",
    "\n",
    "# Compile your model with adadelta\n",
    "autoencoder.compile(optimizer = 'adadelta', loss = 'binary_crossentropy')\n",
    "\n",
    "# Summarize your model structure\n",
    "autoencoder.summary()\n"
   ]
  },
  {
   "cell_type": "code",
   "execution_count": 23,
   "metadata": {},
   "outputs": [
    {
     "name": "stderr",
     "output_type": "stream",
     "text": [
      "<>:2: SyntaxWarning: invalid escape sequence '\\D'\n",
      "<>:2: SyntaxWarning: invalid escape sequence '\\D'\n",
      "C:\\Users\\Shadow\\AppData\\Local\\Temp\\ipykernel_15164\\3408938355.py:2: SyntaxWarning: invalid escape sequence '\\D'\n",
      "  X_test_noise = np.load('D:\\DOA\\DOA Practicals\\DATACAMP\\Data\\MNIST\\X_test_MNIST_noise.npy')\n"
     ]
    }
   ],
   "source": [
    "import numpy as np\n",
    "X_test_noise = np.load('D:\\DOA\\DOA Practicals\\DATACAMP\\Data\\MNIST\\X_test_MNIST_noise.npy')\n",
    "\n"
   ]
  },
  {
   "cell_type": "code",
   "execution_count": 24,
   "metadata": {},
   "outputs": [
    {
     "name": "stdout",
     "output_type": "stream",
     "text": [
      "\u001b[1m4/4\u001b[0m \u001b[32m━━━━━━━━━━━━━━━━━━━━\u001b[0m\u001b[37m\u001b[0m \u001b[1m0s\u001b[0m 16ms/step\n",
      "WARNING:tensorflow:5 out of the last 14 calls to <function TensorFlowTrainer.make_predict_function.<locals>.one_step_on_data_distributed at 0x0000020415DF3740> triggered tf.function retracing. Tracing is expensive and the excessive number of tracings could be due to (1) creating @tf.function repeatedly in a loop, (2) passing tensors with different shapes, (3) passing Python objects instead of tensors. For (1), please define your @tf.function outside of the loop. For (2), @tf.function has reduce_retracing=True option that can avoid unnecessary retracing. For (3), please refer to https://www.tensorflow.org/guide/function#controlling_retracing and https://www.tensorflow.org/api_docs/python/tf/function for  more details.\n",
      "\u001b[1m1/4\u001b[0m \u001b[32m━━━━━\u001b[0m\u001b[37m━━━━━━━━━━━━━━━\u001b[0m \u001b[1m0s\u001b[0m 52ms/stepWARNING:tensorflow:6 out of the last 17 calls to <function TensorFlowTrainer.make_predict_function.<locals>.one_step_on_data_distributed at 0x0000020415DF3740> triggered tf.function retracing. Tracing is expensive and the excessive number of tracings could be due to (1) creating @tf.function repeatedly in a loop, (2) passing tensors with different shapes, (3) passing Python objects instead of tensors. For (1), please define your @tf.function outside of the loop. For (2), @tf.function has reduce_retracing=True option that can avoid unnecessary retracing. For (3), please refer to https://www.tensorflow.org/guide/function#controlling_retracing and https://www.tensorflow.org/api_docs/python/tf/function for  more details.\n",
      "\u001b[1m4/4\u001b[0m \u001b[32m━━━━━━━━━━━━━━━━━━━━\u001b[0m\u001b[37m\u001b[0m \u001b[1m0s\u001b[0m 29ms/step\n"
     ]
    }
   ],
   "source": [
    "# Build your encoder by using the first layer of your autoencoder\n",
    "encoder = Sequential()\n",
    "encoder.add(autoencoder.layers[0])\n",
    "\n",
    "# Encode the noisy images and show the encodings for your favorite number [0-9]\n",
    "encodings = encoder.predict(X_test_noise)\n",
    "# show_encodings(encodings, number = 1)\n",
    "\n",
    "# Predict on the noisy images with your autoencoder\n",
    "decoded_imgs = autoencoder.predict(X_test_noise)\n",
    "\n",
    "# Plot noisy vs decoded images\n",
    "# compare_plot(X_test_noise, decoded_imgs)"
   ]
  }
 ],
 "metadata": {
  "kernelspec": {
   "display_name": "env",
   "language": "python",
   "name": "python3"
  },
  "language_info": {
   "codemirror_mode": {
    "name": "ipython",
    "version": 3
   },
   "file_extension": ".py",
   "mimetype": "text/x-python",
   "name": "python",
   "nbconvert_exporter": "python",
   "pygments_lexer": "ipython3",
   "version": "3.12.7"
  }
 },
 "nbformat": 4,
 "nbformat_minor": 2
}
