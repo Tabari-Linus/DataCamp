{
 "cells": [
  {
   "cell_type": "code",
   "execution_count": 24,
   "metadata": {},
   "outputs": [],
   "source": [
    "from tensorflow.keras.preprocessing.text import Tokenizer\n",
    "from tensorflow.keras.preprocessing.sequence import pad_sequences\n",
    "import numpy as np"
   ]
  },
  {
   "cell_type": "code",
   "execution_count": 1,
   "metadata": {},
   "outputs": [],
   "source": [
    "text = \"\"\"It is not the strength of the body but the strength of the spirit. \n",
    " It is useless to meet revenge with revenge it will heal nothing. \n",
    " Even the smallest person can change the course of history.\n",
    " All we have to decide is what to do with the time that is given us. \n",
    " The burned hand teaches best. After that, advice about fire goes to the heart.\"\"\""
   ]
  },
  {
   "cell_type": "code",
   "execution_count": 15,
   "metadata": {},
   "outputs": [
    {
     "name": "stdout",
     "output_type": "stream",
     "text": [
      "['It', 'is', 'not', 'the', 'strength', 'of', 'the', 'body', 'but', 'the', 'strength', 'of', 'the', 'spirit.', 'It', 'is', 'useless', 'to', 'meet', 'revenge', 'with', 'revenge', 'it', 'will', 'heal', 'nothing.', 'Even', 'the', 'smallest', 'person', 'can', 'change', 'the', 'course', 'of', 'history.', 'All', 'we', 'have', 'to', 'decide', 'is', 'what', 'to', 'do', 'with', 'the', 'time', 'that', 'is', 'given', 'us.', 'The', 'burned', 'hand', 'teaches', 'best.', 'After', 'that,', 'advice', 'about', 'fire', 'goes', 'to', 'the', 'heart.']\n",
      "['It is not the', 'is not the strength', 'not the strength of', 'the strength of the', 'strength of the body', 'of the body but', 'the body but the', 'body but the strength', 'but the strength of', 'the strength of the', 'strength of the spirit.', 'of the spirit. It', 'the spirit. It is', 'spirit. It is useless', 'It is useless to', 'is useless to meet', 'useless to meet revenge', 'to meet revenge with', 'meet revenge with revenge', 'revenge with revenge it', 'with revenge it will', 'revenge it will heal', 'it will heal nothing.', 'will heal nothing. Even', 'heal nothing. Even the', 'nothing. Even the smallest', 'Even the smallest person', 'the smallest person can', 'smallest person can change', 'person can change the', 'can change the course', 'change the course of', 'the course of history.', 'course of history. All', 'of history. All we', 'history. All we have', 'All we have to', 'we have to decide', 'have to decide is', 'to decide is what', 'decide is what to', 'is what to do', 'what to do with', 'to do with the', 'do with the time', 'with the time that', 'the time that is', 'time that is given', 'that is given us.', 'is given us. The', 'given us. The burned', 'us. The burned hand', 'The burned hand teaches', 'burned hand teaches best.', 'hand teaches best. After', 'teaches best. After that,', 'best. After that, advice', 'After that, advice about', 'that, advice about fire', 'advice about fire goes', 'about fire goes to', 'fire goes to the']\n",
      "Sentences: \n",
      " ['It is not the', 'is not the strength', 'not the strength of', 'the strength of the', 'strength of the body'] \n",
      " Sequences: \n",
      " [[5, 2, 42, 1], [2, 42, 1, 6], [42, 1, 6, 4], [1, 6, 4, 1], [6, 4, 1, 10]]\n"
     ]
    }
   ],
   "source": [
    "# Split text into an array of words \n",
    "words = text.split()\n",
    "print(words)\n",
    "vocab_size = x = len(set(words))\n",
    "# Make sentences of 4 words each, moving one word at a time\n",
    "sentences = []\n",
    "for i in range(4, len(words)):\n",
    "  sentences.append(' '.join(words[i-4:i]))\n",
    "print(sentences)\n",
    "# Instantiate a Tokenizer, then fit it on the sentences\n",
    "tokenizer = Tokenizer()\n",
    "tokenizer.fit_on_texts(sentences)\n",
    "# Turn sentences into a sequence of numbers\n",
    "sequences = tokenizer.texts_to_sequences(sentences)\n",
    "print(\"Sentences: \\n {} \\n Sequences: \\n {}\".format(sentences[:5],sequences[:5]))\n",
    "vocab_size = len(tokenizer.word_index) + 1\n",
    "\n"
   ]
  },
  {
   "cell_type": "code",
   "execution_count": 35,
   "metadata": {},
   "outputs": [],
   "source": [
    "# print(sequences)\n",
    "X = np.array([seq[:-1] for seq in sequences])  # Input: first 3 words\n",
    "y = np.array([seq[-1] for seq in sequences])  # Target: 4th word\n",
    "# print(y)\n",
    "\n",
    "# One-hot encode the target\n",
    "y = np.eye(vocab_size)[y]\n",
    "# print(vocab_size)\n",
    "# print(y[1])\n",
    "X_train, X_test, y_train, y_test = train_test_split(X, y, test_size=0.2, random_state=42)\n",
    "# print('data', X_train, y_train)"
   ]
  },
  {
   "cell_type": "code",
   "execution_count": 36,
   "metadata": {},
   "outputs": [
    {
     "name": "stderr",
     "output_type": "stream",
     "text": [
      "c:\\Users\\Shadow\\anaconda3\\envs\\env\\Lib\\site-packages\\keras\\src\\layers\\core\\embedding.py:90: UserWarning: Argument `input_length` is deprecated. Just remove it.\n",
      "  warnings.warn(\n"
     ]
    },
    {
     "data": {
      "text/html": [
       "<pre style=\"white-space:pre;overflow-x:auto;line-height:normal;font-family:Menlo,'DejaVu Sans Mono',consolas,'Courier New',monospace\"><span style=\"font-weight: bold\">Model: \"sequential_2\"</span>\n",
       "</pre>\n"
      ],
      "text/plain": [
       "\u001b[1mModel: \"sequential_2\"\u001b[0m\n"
      ]
     },
     "metadata": {},
     "output_type": "display_data"
    },
    {
     "data": {
      "text/html": [
       "<pre style=\"white-space:pre;overflow-x:auto;line-height:normal;font-family:Menlo,'DejaVu Sans Mono',consolas,'Courier New',monospace\">┏━━━━━━━━━━━━━━━━━━━━━━━━━━━━━━━━━┳━━━━━━━━━━━━━━━━━━━━━━━━┳━━━━━━━━━━━━━━━┓\n",
       "┃<span style=\"font-weight: bold\"> Layer (type)                    </span>┃<span style=\"font-weight: bold\"> Output Shape           </span>┃<span style=\"font-weight: bold\">       Param # </span>┃\n",
       "┡━━━━━━━━━━━━━━━━━━━━━━━━━━━━━━━━━╇━━━━━━━━━━━━━━━━━━━━━━━━╇━━━━━━━━━━━━━━━┩\n",
       "│ embedding_2 (<span style=\"color: #0087ff; text-decoration-color: #0087ff\">Embedding</span>)         │ ?                      │   <span style=\"color: #00af00; text-decoration-color: #00af00\">0</span> (unbuilt) │\n",
       "├─────────────────────────────────┼────────────────────────┼───────────────┤\n",
       "│ lstm_2 (<span style=\"color: #0087ff; text-decoration-color: #0087ff\">LSTM</span>)                   │ ?                      │   <span style=\"color: #00af00; text-decoration-color: #00af00\">0</span> (unbuilt) │\n",
       "├─────────────────────────────────┼────────────────────────┼───────────────┤\n",
       "│ dense_4 (<span style=\"color: #0087ff; text-decoration-color: #0087ff\">Dense</span>)                 │ ?                      │   <span style=\"color: #00af00; text-decoration-color: #00af00\">0</span> (unbuilt) │\n",
       "├─────────────────────────────────┼────────────────────────┼───────────────┤\n",
       "│ dense_5 (<span style=\"color: #0087ff; text-decoration-color: #0087ff\">Dense</span>)                 │ ?                      │   <span style=\"color: #00af00; text-decoration-color: #00af00\">0</span> (unbuilt) │\n",
       "└─────────────────────────────────┴────────────────────────┴───────────────┘\n",
       "</pre>\n"
      ],
      "text/plain": [
       "┏━━━━━━━━━━━━━━━━━━━━━━━━━━━━━━━━━┳━━━━━━━━━━━━━━━━━━━━━━━━┳━━━━━━━━━━━━━━━┓\n",
       "┃\u001b[1m \u001b[0m\u001b[1mLayer (type)                   \u001b[0m\u001b[1m \u001b[0m┃\u001b[1m \u001b[0m\u001b[1mOutput Shape          \u001b[0m\u001b[1m \u001b[0m┃\u001b[1m \u001b[0m\u001b[1m      Param #\u001b[0m\u001b[1m \u001b[0m┃\n",
       "┡━━━━━━━━━━━━━━━━━━━━━━━━━━━━━━━━━╇━━━━━━━━━━━━━━━━━━━━━━━━╇━━━━━━━━━━━━━━━┩\n",
       "│ embedding_2 (\u001b[38;5;33mEmbedding\u001b[0m)         │ ?                      │   \u001b[38;5;34m0\u001b[0m (unbuilt) │\n",
       "├─────────────────────────────────┼────────────────────────┼───────────────┤\n",
       "│ lstm_2 (\u001b[38;5;33mLSTM\u001b[0m)                   │ ?                      │   \u001b[38;5;34m0\u001b[0m (unbuilt) │\n",
       "├─────────────────────────────────┼────────────────────────┼───────────────┤\n",
       "│ dense_4 (\u001b[38;5;33mDense\u001b[0m)                 │ ?                      │   \u001b[38;5;34m0\u001b[0m (unbuilt) │\n",
       "├─────────────────────────────────┼────────────────────────┼───────────────┤\n",
       "│ dense_5 (\u001b[38;5;33mDense\u001b[0m)                 │ ?                      │   \u001b[38;5;34m0\u001b[0m (unbuilt) │\n",
       "└─────────────────────────────────┴────────────────────────┴───────────────┘\n"
      ]
     },
     "metadata": {},
     "output_type": "display_data"
    },
    {
     "data": {
      "text/html": [
       "<pre style=\"white-space:pre;overflow-x:auto;line-height:normal;font-family:Menlo,'DejaVu Sans Mono',consolas,'Courier New',monospace\"><span style=\"font-weight: bold\"> Total params: </span><span style=\"color: #00af00; text-decoration-color: #00af00\">0</span> (0.00 B)\n",
       "</pre>\n"
      ],
      "text/plain": [
       "\u001b[1m Total params: \u001b[0m\u001b[38;5;34m0\u001b[0m (0.00 B)\n"
      ]
     },
     "metadata": {},
     "output_type": "display_data"
    },
    {
     "data": {
      "text/html": [
       "<pre style=\"white-space:pre;overflow-x:auto;line-height:normal;font-family:Menlo,'DejaVu Sans Mono',consolas,'Courier New',monospace\"><span style=\"font-weight: bold\"> Trainable params: </span><span style=\"color: #00af00; text-decoration-color: #00af00\">0</span> (0.00 B)\n",
       "</pre>\n"
      ],
      "text/plain": [
       "\u001b[1m Trainable params: \u001b[0m\u001b[38;5;34m0\u001b[0m (0.00 B)\n"
      ]
     },
     "metadata": {},
     "output_type": "display_data"
    },
    {
     "data": {
      "text/html": [
       "<pre style=\"white-space:pre;overflow-x:auto;line-height:normal;font-family:Menlo,'DejaVu Sans Mono',consolas,'Courier New',monospace\"><span style=\"font-weight: bold\"> Non-trainable params: </span><span style=\"color: #00af00; text-decoration-color: #00af00\">0</span> (0.00 B)\n",
       "</pre>\n"
      ],
      "text/plain": [
       "\u001b[1m Non-trainable params: \u001b[0m\u001b[38;5;34m0\u001b[0m (0.00 B)\n"
      ]
     },
     "metadata": {},
     "output_type": "display_data"
    }
   ],
   "source": [
    "# Import the Embedding, LSTM and Dense layer\n",
    "from tensorflow.keras.layers import LSTM, Dense, Embedding\n",
    "from tensorflow.keras.models import Sequential\n",
    "from sklearn.model_selection import train_test_split\n",
    "\n",
    "model = Sequential()\n",
    "\n",
    "# Add an Embedding layer with the right parameters\n",
    "model.add(Embedding(input_dim = vocab_size, input_length = 3, output_dim = 8, ))\n",
    "\n",
    "# Add a 32 unit LSTM layer\n",
    "model.add(LSTM(32))\n",
    "\n",
    "# Add a hidden Dense layer of 32 units and an output layer of vocab_size with softmax\n",
    "model.add(Dense(32, activation='relu'))\n",
    "model.add(Dense(vocab_size, activation='softmax'))\n",
    "model.summary()\n",
    "\n",
    "\n",
    "# Compile your model using categorical_crossentropy loss\n",
    "model.compile(loss='categorical_crossentropy',\n",
    "              optimizer='adam',\n",
    "              metrics=['accuracy'])"
   ]
  },
  {
   "cell_type": "code",
   "execution_count": 38,
   "metadata": {},
   "outputs": [
    {
     "name": "stdout",
     "output_type": "stream",
     "text": [
      "Epoch 1/200\n",
      "2/2 - 0s - 79ms/step - accuracy: 0.1429 - loss: 3.8193 - val_accuracy: 0.1538 - val_loss: 3.8585\n",
      "Epoch 2/200\n",
      "2/2 - 0s - 57ms/step - accuracy: 0.1429 - loss: 3.8149 - val_accuracy: 0.1538 - val_loss: 3.8598\n",
      "Epoch 3/200\n",
      "2/2 - 0s - 54ms/step - accuracy: 0.1429 - loss: 3.8102 - val_accuracy: 0.1538 - val_loss: 3.8612\n",
      "Epoch 4/200\n",
      "2/2 - 0s - 55ms/step - accuracy: 0.1429 - loss: 3.8053 - val_accuracy: 0.1538 - val_loss: 3.8627\n",
      "Epoch 5/200\n",
      "2/2 - 0s - 60ms/step - accuracy: 0.1429 - loss: 3.7999 - val_accuracy: 0.1538 - val_loss: 3.8644\n",
      "Epoch 6/200\n",
      "2/2 - 0s - 56ms/step - accuracy: 0.1429 - loss: 3.7939 - val_accuracy: 0.1538 - val_loss: 3.8663\n",
      "Epoch 7/200\n",
      "2/2 - 0s - 50ms/step - accuracy: 0.1429 - loss: 3.7880 - val_accuracy: 0.1538 - val_loss: 3.8685\n",
      "Epoch 8/200\n",
      "2/2 - 0s - 58ms/step - accuracy: 0.1429 - loss: 3.7806 - val_accuracy: 0.1538 - val_loss: 3.8712\n",
      "Epoch 9/200\n",
      "2/2 - 0s - 58ms/step - accuracy: 0.1429 - loss: 3.7733 - val_accuracy: 0.1538 - val_loss: 3.8742\n",
      "Epoch 10/200\n",
      "2/2 - 0s - 56ms/step - accuracy: 0.1429 - loss: 3.7640 - val_accuracy: 0.1538 - val_loss: 3.8776\n",
      "Epoch 11/200\n",
      "2/2 - 0s - 50ms/step - accuracy: 0.1429 - loss: 3.7558 - val_accuracy: 0.1538 - val_loss: 3.8817\n",
      "Epoch 12/200\n",
      "2/2 - 0s - 54ms/step - accuracy: 0.1429 - loss: 3.7457 - val_accuracy: 0.1538 - val_loss: 3.8864\n",
      "Epoch 13/200\n",
      "2/2 - 0s - 60ms/step - accuracy: 0.1429 - loss: 3.7345 - val_accuracy: 0.1538 - val_loss: 3.8921\n",
      "Epoch 14/200\n",
      "2/2 - 0s - 49ms/step - accuracy: 0.1429 - loss: 3.7225 - val_accuracy: 0.1538 - val_loss: 3.8986\n",
      "Epoch 15/200\n",
      "2/2 - 0s - 56ms/step - accuracy: 0.1429 - loss: 3.7091 - val_accuracy: 0.1538 - val_loss: 3.9063\n",
      "Epoch 16/200\n",
      "2/2 - 0s - 59ms/step - accuracy: 0.1429 - loss: 3.6934 - val_accuracy: 0.1538 - val_loss: 3.9154\n",
      "Epoch 17/200\n",
      "2/2 - 0s - 58ms/step - accuracy: 0.1429 - loss: 3.6770 - val_accuracy: 0.1538 - val_loss: 3.9263\n",
      "Epoch 18/200\n",
      "2/2 - 0s - 50ms/step - accuracy: 0.1429 - loss: 3.6593 - val_accuracy: 0.1538 - val_loss: 3.9394\n",
      "Epoch 19/200\n",
      "2/2 - 0s - 63ms/step - accuracy: 0.1429 - loss: 3.6391 - val_accuracy: 0.1538 - val_loss: 3.9551\n",
      "Epoch 20/200\n",
      "2/2 - 0s - 55ms/step - accuracy: 0.1429 - loss: 3.6159 - val_accuracy: 0.1538 - val_loss: 3.9743\n",
      "Epoch 21/200\n",
      "2/2 - 0s - 54ms/step - accuracy: 0.1429 - loss: 3.5903 - val_accuracy: 0.1538 - val_loss: 3.9972\n",
      "Epoch 22/200\n",
      "2/2 - 0s - 57ms/step - accuracy: 0.1429 - loss: 3.5675 - val_accuracy: 0.1538 - val_loss: 4.0253\n",
      "Epoch 23/200\n",
      "2/2 - 0s - 59ms/step - accuracy: 0.1429 - loss: 3.5359 - val_accuracy: 0.1538 - val_loss: 4.0593\n",
      "Epoch 24/200\n",
      "2/2 - 0s - 50ms/step - accuracy: 0.1429 - loss: 3.5048 - val_accuracy: 0.1538 - val_loss: 4.1010\n",
      "Epoch 25/200\n",
      "2/2 - 0s - 54ms/step - accuracy: 0.1429 - loss: 3.4755 - val_accuracy: 0.1538 - val_loss: 4.1524\n",
      "Epoch 26/200\n",
      "2/2 - 0s - 55ms/step - accuracy: 0.1429 - loss: 3.4431 - val_accuracy: 0.1538 - val_loss: 4.2143\n",
      "Epoch 27/200\n",
      "2/2 - 0s - 60ms/step - accuracy: 0.1429 - loss: 3.4182 - val_accuracy: 0.1538 - val_loss: 4.2874\n",
      "Epoch 28/200\n",
      "2/2 - 0s - 53ms/step - accuracy: 0.1429 - loss: 3.3907 - val_accuracy: 0.1538 - val_loss: 4.3680\n",
      "Epoch 29/200\n",
      "2/2 - 0s - 53ms/step - accuracy: 0.1429 - loss: 3.3689 - val_accuracy: 0.1538 - val_loss: 4.4553\n",
      "Epoch 30/200\n",
      "2/2 - 0s - 52ms/step - accuracy: 0.1429 - loss: 3.3570 - val_accuracy: 0.1538 - val_loss: 4.5414\n",
      "Epoch 31/200\n",
      "2/2 - 0s - 56ms/step - accuracy: 0.1429 - loss: 3.3390 - val_accuracy: 0.1538 - val_loss: 4.6125\n",
      "Epoch 32/200\n",
      "2/2 - 0s - 56ms/step - accuracy: 0.1429 - loss: 3.3267 - val_accuracy: 0.1538 - val_loss: 4.6775\n",
      "Epoch 33/200\n",
      "2/2 - 0s - 57ms/step - accuracy: 0.1429 - loss: 3.3175 - val_accuracy: 0.1538 - val_loss: 4.7336\n",
      "Epoch 34/200\n",
      "2/2 - 0s - 51ms/step - accuracy: 0.1429 - loss: 3.3063 - val_accuracy: 0.1538 - val_loss: 4.7737\n",
      "Epoch 35/200\n",
      "2/2 - 0s - 66ms/step - accuracy: 0.1429 - loss: 3.2914 - val_accuracy: 0.1538 - val_loss: 4.7957\n",
      "Epoch 36/200\n",
      "2/2 - 0s - 75ms/step - accuracy: 0.1429 - loss: 3.2762 - val_accuracy: 0.1538 - val_loss: 4.8122\n",
      "Epoch 37/200\n",
      "2/2 - 0s - 55ms/step - accuracy: 0.1429 - loss: 3.2611 - val_accuracy: 0.1538 - val_loss: 4.8193\n",
      "Epoch 38/200\n",
      "2/2 - 0s - 50ms/step - accuracy: 0.1429 - loss: 3.2467 - val_accuracy: 0.1538 - val_loss: 4.8232\n",
      "Epoch 39/200\n",
      "2/2 - 0s - 58ms/step - accuracy: 0.1429 - loss: 3.2337 - val_accuracy: 0.1538 - val_loss: 4.8370\n",
      "Epoch 40/200\n",
      "2/2 - 0s - 50ms/step - accuracy: 0.1429 - loss: 3.2194 - val_accuracy: 0.1538 - val_loss: 4.8628\n",
      "Epoch 41/200\n",
      "2/2 - 0s - 56ms/step - accuracy: 0.1429 - loss: 3.2075 - val_accuracy: 0.1538 - val_loss: 4.8943\n",
      "Epoch 42/200\n",
      "2/2 - 0s - 50ms/step - accuracy: 0.1429 - loss: 3.1963 - val_accuracy: 0.1538 - val_loss: 4.9293\n",
      "Epoch 43/200\n",
      "2/2 - 0s - 50ms/step - accuracy: 0.1429 - loss: 3.1841 - val_accuracy: 0.1538 - val_loss: 4.9703\n",
      "Epoch 44/200\n",
      "2/2 - 0s - 58ms/step - accuracy: 0.1429 - loss: 3.1713 - val_accuracy: 0.1538 - val_loss: 5.0085\n",
      "Epoch 45/200\n",
      "2/2 - 0s - 48ms/step - accuracy: 0.1429 - loss: 3.1594 - val_accuracy: 0.1538 - val_loss: 5.0605\n",
      "Epoch 46/200\n",
      "2/2 - 0s - 52ms/step - accuracy: 0.1429 - loss: 3.1474 - val_accuracy: 0.1538 - val_loss: 5.1119\n",
      "Epoch 47/200\n",
      "2/2 - 0s - 50ms/step - accuracy: 0.1429 - loss: 3.1362 - val_accuracy: 0.1538 - val_loss: 5.1727\n",
      "Epoch 48/200\n",
      "2/2 - 0s - 51ms/step - accuracy: 0.1429 - loss: 3.1241 - val_accuracy: 0.1538 - val_loss: 5.2298\n",
      "Epoch 49/200\n",
      "2/2 - 0s - 51ms/step - accuracy: 0.1429 - loss: 3.1118 - val_accuracy: 0.1538 - val_loss: 5.2820\n",
      "Epoch 50/200\n",
      "2/2 - 0s - 51ms/step - accuracy: 0.1429 - loss: 3.1013 - val_accuracy: 0.1538 - val_loss: 5.3351\n",
      "Epoch 51/200\n",
      "2/2 - 0s - 52ms/step - accuracy: 0.1429 - loss: 3.0893 - val_accuracy: 0.1538 - val_loss: 5.3839\n",
      "Epoch 52/200\n",
      "2/2 - 0s - 50ms/step - accuracy: 0.1429 - loss: 3.0783 - val_accuracy: 0.1538 - val_loss: 5.4362\n",
      "Epoch 53/200\n",
      "2/2 - 0s - 50ms/step - accuracy: 0.1429 - loss: 3.0662 - val_accuracy: 0.1538 - val_loss: 5.4833\n",
      "Epoch 54/200\n",
      "2/2 - 0s - 51ms/step - accuracy: 0.1429 - loss: 3.0551 - val_accuracy: 0.1538 - val_loss: 5.5280\n",
      "Epoch 55/200\n",
      "2/2 - 0s - 48ms/step - accuracy: 0.1429 - loss: 3.0431 - val_accuracy: 0.1538 - val_loss: 5.5728\n",
      "Epoch 56/200\n",
      "2/2 - 0s - 57ms/step - accuracy: 0.1429 - loss: 3.0324 - val_accuracy: 0.1538 - val_loss: 5.6296\n",
      "Epoch 57/200\n",
      "2/2 - 0s - 77ms/step - accuracy: 0.1429 - loss: 3.0211 - val_accuracy: 0.1538 - val_loss: 5.6871\n",
      "Epoch 58/200\n",
      "2/2 - 0s - 83ms/step - accuracy: 0.1429 - loss: 3.0101 - val_accuracy: 0.1538 - val_loss: 5.7451\n",
      "Epoch 59/200\n",
      "2/2 - 0s - 67ms/step - accuracy: 0.1429 - loss: 2.9980 - val_accuracy: 0.1538 - val_loss: 5.8129\n",
      "Epoch 60/200\n",
      "2/2 - 0s - 56ms/step - accuracy: 0.1429 - loss: 2.9865 - val_accuracy: 0.1538 - val_loss: 5.8927\n",
      "Epoch 61/200\n",
      "2/2 - 0s - 58ms/step - accuracy: 0.1429 - loss: 2.9734 - val_accuracy: 0.1538 - val_loss: 5.9826\n",
      "Epoch 62/200\n",
      "2/2 - 0s - 62ms/step - accuracy: 0.1429 - loss: 2.9609 - val_accuracy: 0.1538 - val_loss: 6.0780\n",
      "Epoch 63/200\n",
      "2/2 - 0s - 52ms/step - accuracy: 0.1429 - loss: 2.9496 - val_accuracy: 0.1538 - val_loss: 6.1768\n",
      "Epoch 64/200\n",
      "2/2 - 0s - 63ms/step - accuracy: 0.1429 - loss: 2.9382 - val_accuracy: 0.1538 - val_loss: 6.2653\n",
      "Epoch 65/200\n",
      "2/2 - 0s - 62ms/step - accuracy: 0.1429 - loss: 2.9249 - val_accuracy: 0.1538 - val_loss: 6.3328\n",
      "Epoch 66/200\n",
      "2/2 - 0s - 56ms/step - accuracy: 0.1429 - loss: 2.9116 - val_accuracy: 0.1538 - val_loss: 6.3871\n",
      "Epoch 67/200\n",
      "2/2 - 0s - 58ms/step - accuracy: 0.1429 - loss: 2.8982 - val_accuracy: 0.1538 - val_loss: 6.4285\n",
      "Epoch 68/200\n",
      "2/2 - 0s - 54ms/step - accuracy: 0.1429 - loss: 2.8833 - val_accuracy: 0.1538 - val_loss: 6.4721\n",
      "Epoch 69/200\n",
      "2/2 - 0s - 52ms/step - accuracy: 0.1429 - loss: 2.8699 - val_accuracy: 0.1538 - val_loss: 6.5196\n",
      "Epoch 70/200\n",
      "2/2 - 0s - 56ms/step - accuracy: 0.1429 - loss: 2.8543 - val_accuracy: 0.1538 - val_loss: 6.5849\n",
      "Epoch 71/200\n",
      "2/2 - 0s - 56ms/step - accuracy: 0.1429 - loss: 2.8398 - val_accuracy: 0.1538 - val_loss: 6.6553\n",
      "Epoch 72/200\n",
      "2/2 - 0s - 53ms/step - accuracy: 0.1429 - loss: 2.8245 - val_accuracy: 0.0769 - val_loss: 6.7141\n",
      "Epoch 73/200\n",
      "2/2 - 0s - 54ms/step - accuracy: 0.1224 - loss: 2.8092 - val_accuracy: 0.0769 - val_loss: 6.7916\n",
      "Epoch 74/200\n",
      "2/2 - 0s - 55ms/step - accuracy: 0.1224 - loss: 2.7918 - val_accuracy: 0.0769 - val_loss: 6.8727\n",
      "Epoch 75/200\n",
      "2/2 - 0s - 56ms/step - accuracy: 0.1224 - loss: 2.7769 - val_accuracy: 0.0769 - val_loss: 6.9635\n",
      "Epoch 76/200\n",
      "2/2 - 0s - 51ms/step - accuracy: 0.1429 - loss: 2.7585 - val_accuracy: 0.0769 - val_loss: 7.0650\n",
      "Epoch 77/200\n",
      "2/2 - 0s - 50ms/step - accuracy: 0.1429 - loss: 2.7409 - val_accuracy: 0.0769 - val_loss: 7.1748\n",
      "Epoch 78/200\n",
      "2/2 - 0s - 51ms/step - accuracy: 0.1429 - loss: 2.7223 - val_accuracy: 0.0769 - val_loss: 7.2829\n",
      "Epoch 79/200\n",
      "2/2 - 0s - 55ms/step - accuracy: 0.1429 - loss: 2.7033 - val_accuracy: 0.0769 - val_loss: 7.3999\n",
      "Epoch 80/200\n",
      "2/2 - 0s - 50ms/step - accuracy: 0.1429 - loss: 2.6827 - val_accuracy: 0.0769 - val_loss: 7.5012\n",
      "Epoch 81/200\n",
      "2/2 - 0s - 51ms/step - accuracy: 0.1224 - loss: 2.6633 - val_accuracy: 0.0769 - val_loss: 7.6028\n",
      "Epoch 82/200\n",
      "2/2 - 0s - 57ms/step - accuracy: 0.1224 - loss: 2.6433 - val_accuracy: 0.0769 - val_loss: 7.7072\n",
      "Epoch 83/200\n",
      "2/2 - 0s - 53ms/step - accuracy: 0.1429 - loss: 2.6217 - val_accuracy: 0.0769 - val_loss: 7.8021\n",
      "Epoch 84/200\n",
      "2/2 - 0s - 55ms/step - accuracy: 0.1429 - loss: 2.6004 - val_accuracy: 0.0769 - val_loss: 7.8942\n",
      "Epoch 85/200\n",
      "2/2 - 0s - 53ms/step - accuracy: 0.1633 - loss: 2.5792 - val_accuracy: 0.0769 - val_loss: 7.9825\n",
      "Epoch 86/200\n",
      "2/2 - 0s - 51ms/step - accuracy: 0.1837 - loss: 2.5561 - val_accuracy: 0.0769 - val_loss: 8.0869\n",
      "Epoch 87/200\n",
      "2/2 - 0s - 54ms/step - accuracy: 0.1837 - loss: 2.5356 - val_accuracy: 0.0769 - val_loss: 8.1918\n",
      "Epoch 88/200\n",
      "2/2 - 0s - 51ms/step - accuracy: 0.1837 - loss: 2.5115 - val_accuracy: 0.0769 - val_loss: 8.2949\n",
      "Epoch 89/200\n",
      "2/2 - 0s - 57ms/step - accuracy: 0.2041 - loss: 2.4876 - val_accuracy: 0.0769 - val_loss: 8.4072\n",
      "Epoch 90/200\n",
      "2/2 - 0s - 49ms/step - accuracy: 0.2041 - loss: 2.4666 - val_accuracy: 0.0769 - val_loss: 8.5314\n",
      "Epoch 91/200\n",
      "2/2 - 0s - 53ms/step - accuracy: 0.2449 - loss: 2.4419 - val_accuracy: 0.0769 - val_loss: 8.6588\n",
      "Epoch 92/200\n",
      "2/2 - 0s - 50ms/step - accuracy: 0.2653 - loss: 2.4183 - val_accuracy: 0.0769 - val_loss: 8.7641\n",
      "Epoch 93/200\n",
      "2/2 - 0s - 50ms/step - accuracy: 0.2449 - loss: 2.3961 - val_accuracy: 0.0769 - val_loss: 8.8728\n",
      "Epoch 94/200\n",
      "2/2 - 0s - 58ms/step - accuracy: 0.2449 - loss: 2.3698 - val_accuracy: 0.0769 - val_loss: 8.9807\n",
      "Epoch 95/200\n",
      "2/2 - 0s - 50ms/step - accuracy: 0.2653 - loss: 2.3489 - val_accuracy: 0.0769 - val_loss: 9.0862\n",
      "Epoch 96/200\n",
      "2/2 - 0s - 56ms/step - accuracy: 0.2653 - loss: 2.3236 - val_accuracy: 0.0769 - val_loss: 9.1764\n",
      "Epoch 97/200\n",
      "2/2 - 0s - 50ms/step - accuracy: 0.3061 - loss: 2.3004 - val_accuracy: 0.0769 - val_loss: 9.2831\n",
      "Epoch 98/200\n",
      "2/2 - 0s - 58ms/step - accuracy: 0.3265 - loss: 2.2770 - val_accuracy: 0.0769 - val_loss: 9.4111\n",
      "Epoch 99/200\n",
      "2/2 - 0s - 52ms/step - accuracy: 0.3265 - loss: 2.2534 - val_accuracy: 0.0769 - val_loss: 9.5443\n",
      "Epoch 100/200\n",
      "2/2 - 0s - 51ms/step - accuracy: 0.3469 - loss: 2.2305 - val_accuracy: 0.0769 - val_loss: 9.6638\n",
      "Epoch 101/200\n",
      "2/2 - 0s - 93ms/step - accuracy: 0.3673 - loss: 2.2051 - val_accuracy: 0.0769 - val_loss: 9.7831\n",
      "Epoch 102/200\n",
      "2/2 - 0s - 55ms/step - accuracy: 0.3469 - loss: 2.1823 - val_accuracy: 0.0769 - val_loss: 9.8893\n",
      "Epoch 103/200\n",
      "2/2 - 0s - 52ms/step - accuracy: 0.3265 - loss: 2.1557 - val_accuracy: 0.0769 - val_loss: 9.9888\n",
      "Epoch 104/200\n",
      "2/2 - 0s - 56ms/step - accuracy: 0.3469 - loss: 2.1327 - val_accuracy: 0.0769 - val_loss: 10.0756\n",
      "Epoch 105/200\n",
      "2/2 - 0s - 53ms/step - accuracy: 0.3469 - loss: 2.1065 - val_accuracy: 0.0769 - val_loss: 10.1748\n",
      "Epoch 106/200\n",
      "2/2 - 0s - 52ms/step - accuracy: 0.3469 - loss: 2.0808 - val_accuracy: 0.0769 - val_loss: 10.2710\n",
      "Epoch 107/200\n",
      "2/2 - 0s - 56ms/step - accuracy: 0.3469 - loss: 2.0572 - val_accuracy: 0.0769 - val_loss: 10.3601\n",
      "Epoch 108/200\n",
      "2/2 - 0s - 50ms/step - accuracy: 0.3673 - loss: 2.0298 - val_accuracy: 0.0769 - val_loss: 10.4638\n",
      "Epoch 109/200\n",
      "2/2 - 0s - 63ms/step - accuracy: 0.4286 - loss: 2.0054 - val_accuracy: 0.0769 - val_loss: 10.5580\n",
      "Epoch 110/200\n",
      "2/2 - 0s - 55ms/step - accuracy: 0.4694 - loss: 1.9784 - val_accuracy: 0.0769 - val_loss: 10.6456\n",
      "Epoch 111/200\n",
      "2/2 - 0s - 50ms/step - accuracy: 0.4490 - loss: 1.9545 - val_accuracy: 0.0769 - val_loss: 10.7469\n",
      "Epoch 112/200\n",
      "2/2 - 0s - 77ms/step - accuracy: 0.4694 - loss: 1.9303 - val_accuracy: 0.0769 - val_loss: 10.8496\n",
      "Epoch 113/200\n",
      "2/2 - 0s - 55ms/step - accuracy: 0.4490 - loss: 1.9028 - val_accuracy: 0.0769 - val_loss: 10.9682\n",
      "Epoch 114/200\n",
      "2/2 - 0s - 56ms/step - accuracy: 0.4490 - loss: 1.8747 - val_accuracy: 0.0769 - val_loss: 11.0903\n",
      "Epoch 115/200\n",
      "2/2 - 0s - 60ms/step - accuracy: 0.4694 - loss: 1.8487 - val_accuracy: 0.0769 - val_loss: 11.2169\n",
      "Epoch 116/200\n",
      "2/2 - 0s - 58ms/step - accuracy: 0.4694 - loss: 1.8205 - val_accuracy: 0.0769 - val_loss: 11.3273\n",
      "Epoch 117/200\n",
      "2/2 - 0s - 63ms/step - accuracy: 0.4490 - loss: 1.7973 - val_accuracy: 0.0769 - val_loss: 11.4409\n",
      "Epoch 118/200\n",
      "2/2 - 0s - 58ms/step - accuracy: 0.4490 - loss: 1.7701 - val_accuracy: 0.0769 - val_loss: 11.5477\n",
      "Epoch 119/200\n",
      "2/2 - 0s - 57ms/step - accuracy: 0.4694 - loss: 1.7429 - val_accuracy: 0.0769 - val_loss: 11.6642\n",
      "Epoch 120/200\n",
      "2/2 - 0s - 56ms/step - accuracy: 0.4898 - loss: 1.7166 - val_accuracy: 0.0769 - val_loss: 11.7884\n",
      "Epoch 121/200\n",
      "2/2 - 0s - 64ms/step - accuracy: 0.4898 - loss: 1.6908 - val_accuracy: 0.0769 - val_loss: 11.9198\n",
      "Epoch 122/200\n",
      "2/2 - 0s - 57ms/step - accuracy: 0.4898 - loss: 1.6653 - val_accuracy: 0.0769 - val_loss: 12.0502\n",
      "Epoch 123/200\n",
      "2/2 - 0s - 62ms/step - accuracy: 0.5102 - loss: 1.6378 - val_accuracy: 0.0769 - val_loss: 12.1691\n",
      "Epoch 124/200\n",
      "2/2 - 0s - 57ms/step - accuracy: 0.4898 - loss: 1.6132 - val_accuracy: 0.0769 - val_loss: 12.2974\n",
      "Epoch 125/200\n",
      "2/2 - 0s - 58ms/step - accuracy: 0.4898 - loss: 1.5876 - val_accuracy: 0.0769 - val_loss: 12.4165\n",
      "Epoch 126/200\n",
      "2/2 - 0s - 59ms/step - accuracy: 0.5102 - loss: 1.5627 - val_accuracy: 0.0769 - val_loss: 12.5231\n",
      "Epoch 127/200\n",
      "2/2 - 0s - 55ms/step - accuracy: 0.5102 - loss: 1.5369 - val_accuracy: 0.0769 - val_loss: 12.6329\n",
      "Epoch 128/200\n",
      "2/2 - 0s - 56ms/step - accuracy: 0.5306 - loss: 1.5125 - val_accuracy: 0.0769 - val_loss: 12.7412\n",
      "Epoch 129/200\n",
      "2/2 - 0s - 59ms/step - accuracy: 0.5306 - loss: 1.4884 - val_accuracy: 0.0769 - val_loss: 12.8410\n",
      "Epoch 130/200\n",
      "2/2 - 0s - 58ms/step - accuracy: 0.5306 - loss: 1.4644 - val_accuracy: 0.0769 - val_loss: 12.9361\n",
      "Epoch 131/200\n",
      "2/2 - 0s - 59ms/step - accuracy: 0.5306 - loss: 1.4402 - val_accuracy: 0.0769 - val_loss: 13.0389\n",
      "Epoch 132/200\n",
      "2/2 - 0s - 55ms/step - accuracy: 0.5306 - loss: 1.4158 - val_accuracy: 0.0769 - val_loss: 13.1617\n",
      "Epoch 133/200\n",
      "2/2 - 0s - 60ms/step - accuracy: 0.5714 - loss: 1.3942 - val_accuracy: 0.0769 - val_loss: 13.2773\n",
      "Epoch 134/200\n",
      "2/2 - 0s - 57ms/step - accuracy: 0.5714 - loss: 1.3703 - val_accuracy: 0.0769 - val_loss: 13.4103\n",
      "Epoch 135/200\n",
      "2/2 - 0s - 56ms/step - accuracy: 0.5918 - loss: 1.3470 - val_accuracy: 0.0769 - val_loss: 13.5508\n",
      "Epoch 136/200\n",
      "2/2 - 0s - 58ms/step - accuracy: 0.5918 - loss: 1.3246 - val_accuracy: 0.0769 - val_loss: 13.6792\n",
      "Epoch 137/200\n",
      "2/2 - 0s - 56ms/step - accuracy: 0.6122 - loss: 1.3029 - val_accuracy: 0.0769 - val_loss: 13.8098\n",
      "Epoch 138/200\n",
      "2/2 - 0s - 56ms/step - accuracy: 0.6327 - loss: 1.2806 - val_accuracy: 0.0769 - val_loss: 13.9525\n",
      "Epoch 139/200\n",
      "2/2 - 0s - 50ms/step - accuracy: 0.6327 - loss: 1.2587 - val_accuracy: 0.0769 - val_loss: 14.0836\n",
      "Epoch 140/200\n",
      "2/2 - 0s - 58ms/step - accuracy: 0.6327 - loss: 1.2374 - val_accuracy: 0.0769 - val_loss: 14.1995\n",
      "Epoch 141/200\n",
      "2/2 - 0s - 58ms/step - accuracy: 0.6939 - loss: 1.2156 - val_accuracy: 0.0769 - val_loss: 14.2983\n",
      "Epoch 142/200\n",
      "2/2 - 0s - 50ms/step - accuracy: 0.6939 - loss: 1.1940 - val_accuracy: 0.0769 - val_loss: 14.4030\n",
      "Epoch 143/200\n",
      "2/2 - 0s - 50ms/step - accuracy: 0.7143 - loss: 1.1740 - val_accuracy: 0.0769 - val_loss: 14.5042\n",
      "Epoch 144/200\n",
      "2/2 - 0s - 58ms/step - accuracy: 0.7347 - loss: 1.1520 - val_accuracy: 0.0769 - val_loss: 14.6170\n",
      "Epoch 145/200\n",
      "2/2 - 0s - 51ms/step - accuracy: 0.7347 - loss: 1.1311 - val_accuracy: 0.0769 - val_loss: 14.7456\n",
      "Epoch 146/200\n",
      "2/2 - 0s - 52ms/step - accuracy: 0.7347 - loss: 1.1119 - val_accuracy: 0.0769 - val_loss: 14.8622\n",
      "Epoch 147/200\n",
      "2/2 - 0s - 59ms/step - accuracy: 0.7755 - loss: 1.0936 - val_accuracy: 0.0769 - val_loss: 14.9897\n",
      "Epoch 148/200\n",
      "2/2 - 0s - 54ms/step - accuracy: 0.7959 - loss: 1.0759 - val_accuracy: 0.1538 - val_loss: 15.1154\n",
      "Epoch 149/200\n",
      "2/2 - 0s - 60ms/step - accuracy: 0.8163 - loss: 1.0560 - val_accuracy: 0.1538 - val_loss: 15.2461\n",
      "Epoch 150/200\n",
      "2/2 - 0s - 57ms/step - accuracy: 0.8367 - loss: 1.0382 - val_accuracy: 0.1538 - val_loss: 15.3613\n",
      "Epoch 151/200\n",
      "2/2 - 0s - 64ms/step - accuracy: 0.8367 - loss: 1.0184 - val_accuracy: 0.1538 - val_loss: 15.4749\n",
      "Epoch 152/200\n",
      "2/2 - 0s - 59ms/step - accuracy: 0.7959 - loss: 0.9998 - val_accuracy: 0.1538 - val_loss: 15.5689\n",
      "Epoch 153/200\n",
      "2/2 - 0s - 59ms/step - accuracy: 0.7959 - loss: 0.9806 - val_accuracy: 0.1538 - val_loss: 15.6734\n",
      "Epoch 154/200\n",
      "2/2 - 0s - 57ms/step - accuracy: 0.8163 - loss: 0.9628 - val_accuracy: 0.1538 - val_loss: 15.7794\n",
      "Epoch 155/200\n",
      "2/2 - 0s - 64ms/step - accuracy: 0.7959 - loss: 0.9469 - val_accuracy: 0.1538 - val_loss: 15.8942\n",
      "Epoch 156/200\n",
      "2/2 - 0s - 57ms/step - accuracy: 0.7959 - loss: 0.9295 - val_accuracy: 0.1538 - val_loss: 16.0282\n",
      "Epoch 157/200\n",
      "2/2 - 0s - 57ms/step - accuracy: 0.8163 - loss: 0.9130 - val_accuracy: 0.1538 - val_loss: 16.1440\n",
      "Epoch 158/200\n",
      "2/2 - 0s - 62ms/step - accuracy: 0.8163 - loss: 0.8968 - val_accuracy: 0.1538 - val_loss: 16.2436\n",
      "Epoch 159/200\n",
      "2/2 - 0s - 54ms/step - accuracy: 0.8163 - loss: 0.8811 - val_accuracy: 0.0769 - val_loss: 16.3485\n",
      "Epoch 160/200\n",
      "2/2 - 0s - 69ms/step - accuracy: 0.7959 - loss: 0.8662 - val_accuracy: 0.0769 - val_loss: 16.4470\n",
      "Epoch 161/200\n",
      "2/2 - 0s - 75ms/step - accuracy: 0.7959 - loss: 0.8508 - val_accuracy: 0.0769 - val_loss: 16.5374\n",
      "Epoch 162/200\n",
      "2/2 - 0s - 58ms/step - accuracy: 0.7959 - loss: 0.8370 - val_accuracy: 0.0769 - val_loss: 16.6248\n",
      "Epoch 163/200\n",
      "2/2 - 0s - 61ms/step - accuracy: 0.8367 - loss: 0.8224 - val_accuracy: 0.0769 - val_loss: 16.7176\n",
      "Epoch 164/200\n",
      "2/2 - 0s - 58ms/step - accuracy: 0.8367 - loss: 0.8081 - val_accuracy: 0.0769 - val_loss: 16.8157\n",
      "Epoch 165/200\n",
      "2/2 - 0s - 53ms/step - accuracy: 0.8367 - loss: 0.7943 - val_accuracy: 0.0769 - val_loss: 16.8921\n",
      "Epoch 166/200\n",
      "2/2 - 0s - 50ms/step - accuracy: 0.8571 - loss: 0.7810 - val_accuracy: 0.0769 - val_loss: 16.9745\n",
      "Epoch 167/200\n",
      "2/2 - 0s - 50ms/step - accuracy: 0.8571 - loss: 0.7679 - val_accuracy: 0.0769 - val_loss: 17.0564\n",
      "Epoch 168/200\n",
      "2/2 - 0s - 58ms/step - accuracy: 0.8571 - loss: 0.7552 - val_accuracy: 0.0769 - val_loss: 17.1321\n",
      "Epoch 169/200\n",
      "2/2 - 0s - 58ms/step - accuracy: 0.8571 - loss: 0.7441 - val_accuracy: 0.0769 - val_loss: 17.2091\n",
      "Epoch 170/200\n",
      "2/2 - 0s - 50ms/step - accuracy: 0.8776 - loss: 0.7317 - val_accuracy: 0.0769 - val_loss: 17.2786\n",
      "Epoch 171/200\n",
      "2/2 - 0s - 58ms/step - accuracy: 0.8980 - loss: 0.7217 - val_accuracy: 0.0769 - val_loss: 17.3540\n",
      "Epoch 172/200\n",
      "2/2 - 0s - 58ms/step - accuracy: 0.8980 - loss: 0.7088 - val_accuracy: 0.0769 - val_loss: 17.4313\n",
      "Epoch 173/200\n",
      "2/2 - 0s - 57ms/step - accuracy: 0.8980 - loss: 0.6975 - val_accuracy: 0.1538 - val_loss: 17.5132\n",
      "Epoch 174/200\n",
      "2/2 - 0s - 56ms/step - accuracy: 0.8980 - loss: 0.6875 - val_accuracy: 0.1538 - val_loss: 17.5942\n",
      "Epoch 175/200\n",
      "2/2 - 0s - 58ms/step - accuracy: 0.8980 - loss: 0.6752 - val_accuracy: 0.1538 - val_loss: 17.6752\n",
      "Epoch 176/200\n",
      "2/2 - 0s - 58ms/step - accuracy: 0.8980 - loss: 0.6659 - val_accuracy: 0.1538 - val_loss: 17.7461\n",
      "Epoch 177/200\n",
      "2/2 - 0s - 58ms/step - accuracy: 0.8776 - loss: 0.6568 - val_accuracy: 0.1538 - val_loss: 17.8069\n",
      "Epoch 178/200\n",
      "2/2 - 0s - 61ms/step - accuracy: 0.8571 - loss: 0.6475 - val_accuracy: 0.1538 - val_loss: 17.8718\n",
      "Epoch 179/200\n",
      "2/2 - 0s - 54ms/step - accuracy: 0.8571 - loss: 0.6371 - val_accuracy: 0.1538 - val_loss: 17.9235\n",
      "Epoch 180/200\n",
      "2/2 - 0s - 60ms/step - accuracy: 0.8776 - loss: 0.6280 - val_accuracy: 0.1538 - val_loss: 17.9764\n",
      "Epoch 181/200\n",
      "2/2 - 0s - 54ms/step - accuracy: 0.8776 - loss: 0.6162 - val_accuracy: 0.1538 - val_loss: 18.0460\n",
      "Epoch 182/200\n",
      "2/2 - 0s - 50ms/step - accuracy: 0.8776 - loss: 0.6078 - val_accuracy: 0.1538 - val_loss: 18.1148\n",
      "Epoch 183/200\n",
      "2/2 - 0s - 58ms/step - accuracy: 0.8980 - loss: 0.5990 - val_accuracy: 0.1538 - val_loss: 18.1745\n",
      "Epoch 184/200\n",
      "2/2 - 0s - 58ms/step - accuracy: 0.8776 - loss: 0.5886 - val_accuracy: 0.1538 - val_loss: 18.2122\n",
      "Epoch 185/200\n",
      "2/2 - 0s - 59ms/step - accuracy: 0.8980 - loss: 0.5822 - val_accuracy: 0.1538 - val_loss: 18.2610\n",
      "Epoch 186/200\n",
      "2/2 - 0s - 54ms/step - accuracy: 0.8776 - loss: 0.5719 - val_accuracy: 0.1538 - val_loss: 18.3298\n",
      "Epoch 187/200\n",
      "2/2 - 0s - 50ms/step - accuracy: 0.8980 - loss: 0.5629 - val_accuracy: 0.1538 - val_loss: 18.3912\n",
      "Epoch 188/200\n",
      "2/2 - 0s - 50ms/step - accuracy: 0.8980 - loss: 0.5546 - val_accuracy: 0.1538 - val_loss: 18.4453\n",
      "Epoch 189/200\n",
      "2/2 - 0s - 58ms/step - accuracy: 0.8980 - loss: 0.5461 - val_accuracy: 0.1538 - val_loss: 18.4991\n",
      "Epoch 190/200\n",
      "2/2 - 0s - 58ms/step - accuracy: 0.8980 - loss: 0.5383 - val_accuracy: 0.1538 - val_loss: 18.5498\n",
      "Epoch 191/200\n",
      "2/2 - 0s - 58ms/step - accuracy: 0.8980 - loss: 0.5309 - val_accuracy: 0.1538 - val_loss: 18.6124\n",
      "Epoch 192/200\n",
      "2/2 - 0s - 59ms/step - accuracy: 0.8980 - loss: 0.5229 - val_accuracy: 0.1538 - val_loss: 18.6767\n",
      "Epoch 193/200\n",
      "2/2 - 0s - 57ms/step - accuracy: 0.8980 - loss: 0.5161 - val_accuracy: 0.1538 - val_loss: 18.7359\n",
      "Epoch 194/200\n",
      "2/2 - 0s - 58ms/step - accuracy: 0.9184 - loss: 0.5068 - val_accuracy: 0.1538 - val_loss: 18.7832\n",
      "Epoch 195/200\n",
      "2/2 - 0s - 60ms/step - accuracy: 0.9184 - loss: 0.4989 - val_accuracy: 0.1538 - val_loss: 18.8315\n",
      "Epoch 196/200\n",
      "2/2 - 0s - 54ms/step - accuracy: 0.9184 - loss: 0.4916 - val_accuracy: 0.1538 - val_loss: 18.8927\n",
      "Epoch 197/200\n",
      "2/2 - 0s - 52ms/step - accuracy: 0.9184 - loss: 0.4830 - val_accuracy: 0.1538 - val_loss: 18.9611\n",
      "Epoch 198/200\n",
      "2/2 - 0s - 55ms/step - accuracy: 0.9184 - loss: 0.4751 - val_accuracy: 0.1538 - val_loss: 19.0266\n",
      "Epoch 199/200\n",
      "2/2 - 0s - 58ms/step - accuracy: 0.9184 - loss: 0.4680 - val_accuracy: 0.1538 - val_loss: 19.0881\n",
      "Epoch 200/200\n",
      "2/2 - 0s - 61ms/step - accuracy: 0.9184 - loss: 0.4623 - val_accuracy: 0.1538 - val_loss: 19.1425\n"
     ]
    },
    {
     "data": {
      "text/plain": [
       "<keras.src.callbacks.history.History at 0x2964e31f3e0>"
      ]
     },
     "execution_count": 38,
     "metadata": {},
     "output_type": "execute_result"
    }
   ],
   "source": [
    "model.fit(X_train, y_train, epochs=200, verbose=2, validation_data=(X_test, y_test))"
   ]
  },
  {
   "cell_type": "code",
   "execution_count": 39,
   "metadata": {},
   "outputs": [],
   "source": [
    "def predict_text(test_text, model = model):\n",
    "  if len(test_text.split()) != 3:\n",
    "    print('Text input should be 3 words!')\n",
    "    return False\n",
    "  \n",
    "  # Turn the test_text into a sequence of numbers\n",
    "  test_seq = tokenizer.texts_to_sequences([test_text])\n",
    "  test_seq = np.array(test_seq)\n",
    "  \n",
    "  # Use the model passed as a parameter to predict the next word\n",
    "  pred = model.predict(test_seq).argmax(axis = 1)[0]\n",
    "  \n",
    "  # Return the word that maps to the prediction\n",
    "  return tokenizer.index_word[pred]"
   ]
  },
  {
   "cell_type": "code",
   "execution_count": 40,
   "metadata": {},
   "outputs": [
    {
     "name": "stdout",
     "output_type": "stream",
     "text": [
      "\u001b[1m1/1\u001b[0m \u001b[32m━━━━━━━━━━━━━━━━━━━━\u001b[0m\u001b[37m\u001b[0m \u001b[1m0s\u001b[0m 266ms/step\n"
     ]
    },
    {
     "data": {
      "text/plain": [
       "'revenge'"
      ]
     },
     "execution_count": 40,
     "metadata": {},
     "output_type": "execute_result"
    }
   ],
   "source": [
    "predict_text('meet revenge with')"
   ]
  },
  {
   "cell_type": "code",
   "execution_count": 41,
   "metadata": {},
   "outputs": [
    {
     "name": "stdout",
     "output_type": "stream",
     "text": [
      "\u001b[1m1/1\u001b[0m \u001b[32m━━━━━━━━━━━━━━━━━━━━\u001b[0m\u001b[37m\u001b[0m \u001b[1m0s\u001b[0m 58ms/step\n"
     ]
    },
    {
     "data": {
      "text/plain": [
       "'history'"
      ]
     },
     "execution_count": 41,
     "metadata": {},
     "output_type": "execute_result"
    }
   ],
   "source": [
    "predict_text('the course of')"
   ]
  },
  {
   "cell_type": "code",
   "execution_count": 42,
   "metadata": {},
   "outputs": [
    {
     "name": "stdout",
     "output_type": "stream",
     "text": [
      "\u001b[1m1/1\u001b[0m \u001b[32m━━━━━━━━━━━━━━━━━━━━\u001b[0m\u001b[37m\u001b[0m \u001b[1m0s\u001b[0m 39ms/step\n"
     ]
    },
    {
     "data": {
      "text/plain": [
       "'body'"
      ]
     },
     "execution_count": 42,
     "metadata": {},
     "output_type": "execute_result"
    }
   ],
   "source": [
    "predict_text('strength of the')"
   ]
  }
 ],
 "metadata": {
  "kernelspec": {
   "display_name": "env",
   "language": "python",
   "name": "python3"
  },
  "language_info": {
   "codemirror_mode": {
    "name": "ipython",
    "version": 3
   },
   "file_extension": ".py",
   "mimetype": "text/x-python",
   "name": "python",
   "nbconvert_exporter": "python",
   "pygments_lexer": "ipython3",
   "version": "3.12.7"
  }
 },
 "nbformat": 4,
 "nbformat_minor": 2
}
